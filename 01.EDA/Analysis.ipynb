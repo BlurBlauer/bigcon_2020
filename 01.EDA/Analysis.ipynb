{
 "cells": [
  {
   "cell_type": "code",
   "execution_count": 1,
   "metadata": {},
   "outputs": [],
   "source": [
    "import numpy as np\n",
    "import pandas as pd\n",
    "import matplotlib.pyplot as plt\n",
    "import seaborn as sns\n",
    "import pickle"
   ]
  },
  {
   "cell_type": "code",
   "execution_count": 2,
   "metadata": {},
   "outputs": [],
   "source": [
    "from sklearn.cluster import KMeans\n",
    "from sklearn.preprocessing import StandardScaler\n",
    "from sklearn.model_selection import train_test_split\n",
    "from sklearn.model_selection import cross_val_score\n",
    "from sklearn.tree import DecisionTreeClassifier\n",
    "from sklearn.linear_model import LogisticRegression\n",
    "from sklearn.ensemble import RandomForestClassifier\n",
    "from sklearn.ensemble import VotingClassifier\n",
    "from sklearn.svm import LinearSVC\n",
    "from sklearn.svm import SVC\n",
    "from sklearn.metrics import accuracy_score, precision_score, recall_score\n",
    "from sklearn.metrics import confusion_matrix"
   ]
  },
  {
   "cell_type": "code",
   "execution_count": 3,
   "metadata": {},
   "outputs": [],
   "source": [
    "with open('../data/features_list.bin', 'rb') as f:\n",
    "    features_list = pickle.load(f)\n",
    "    f.close()"
   ]
  },
  {
   "cell_type": "code",
   "execution_count": 4,
   "metadata": {},
   "outputs": [],
   "source": [
    "scaler = StandardScaler()"
   ]
  },
  {
   "cell_type": "code",
   "execution_count": 5,
   "metadata": {},
   "outputs": [],
   "source": [
    "scaled_features_list = []\n",
    "for features in features_list:\n",
    "    scaled_features_list.append(scaler.fit_transform(features))"
   ]
  },
  {
   "cell_type": "code",
   "execution_count": 6,
   "metadata": {},
   "outputs": [],
   "source": [
    "np.random.seed(32)"
   ]
  },
  {
   "cell_type": "code",
   "execution_count": 7,
   "metadata": {},
   "outputs": [],
   "source": [
    "features_scaled_list = []\n",
    "kmeans_list = []\n",
    "for idx in range(4):\n",
    "    features_scaled = pd.DataFrame(data=scaled_features_list[idx],\n",
    "                                   index=features_list[idx].index,\n",
    "                                   columns=features_list[idx].columns)\n",
    "    kmeans = KMeans(n_clusters=3, random_state=143)\n",
    "    kmeans.fit(features_scaled)\n",
    "    features_scaled['LABEL'] = kmeans.labels_\n",
    "    features_scaled_list.append(features_scaled)\n",
    "    kmeans_list.append(kmeans)"
   ]
  },
  {
   "cell_type": "code",
   "execution_count": 8,
   "metadata": {
    "scrolled": false
   },
   "outputs": [],
   "source": [
    "def cluster_centers_visualize(idx):\n",
    "    fig, ax = plt.subplots(3, 1, figsize=(12,6), sharex=True, sharey=True)\n",
    "    ax = ax.ravel()\n",
    "    plt.tight_layout()\n",
    "    plt.subplots_adjust(hspace=0.4)\n",
    "    plt.title('INIT')\n",
    "    for i in range(kmeans_list[idx].n_clusters):\n",
    "        ax[i].set_title(f'Cluster {i}')\n",
    "        sns.barplot(np.arange(features_list[idx].columns.size), kmeans_list[idx].cluster_centers_[i], ax=ax[i])\n",
    "        ax[i].set_xticks(np.arange(features_list[idx].columns.size))\n",
    "        ax[i].set_xticklabels(features_list[idx].columns, rotation=90)"
   ]
  },
  {
   "cell_type": "code",
   "execution_count": null,
   "metadata": {},
   "outputs": [],
   "source": []
  },
  {
   "cell_type": "code",
   "execution_count": null,
   "metadata": {},
   "outputs": [],
   "source": []
  },
  {
   "cell_type": "code",
   "execution_count": 9,
   "metadata": {
    "scrolled": false
   },
   "outputs": [
    {
     "data": {
      "image/png": "[encoded data removed]",
      "text/plain": [
       "<Figure size 864x432 with 3 Axes>"
      ]
     },
     "metadata": {
      "needs_background": "light"
     },
     "output_type": "display_data"
    }
   ],
   "source": [
    "cluster_centers_visualize(0)"
   ]
  },
  {
   "cell_type": "code",
   "execution_count": 10,
   "metadata": {},
   "outputs": [
    {
     "data": {
      "text/plain": [
       "1    39\n",
       "2    16\n",
       "0    12\n",
       "Name: LABEL, dtype: int64"
      ]
     },
     "execution_count": 10,
     "metadata": {},
     "output_type": "execute_result"
    }
   ],
   "source": [
    "features_scaled_list[0]['LABEL'].value_counts()"
   ]
  },
  {
   "cell_type": "code",
   "execution_count": 11,
   "metadata": {},
   "outputs": [
    {
     "data": {
      "text/html": [
       "<div>\n",
       "<style scoped>\n",
       "    .dataframe tbody tr th:only-of-type {\n",
       "        vertical-align: middle;\n",
       "    }\n",
       "\n",
       "    .dataframe tbody tr th {\n",
       "        vertical-align: top;\n",
       "    }\n",
       "\n",
       "    .dataframe thead th {\n",
       "        text-align: right;\n",
       "    }\n",
       "</style>\n",
       "<table border=\"1\" class=\"dataframe\">\n",
       "  <thead>\n",
       "    <tr style=\"text-align: right;\">\n",
       "      <th></th>\n",
       "      <th>AG_20</th>\n",
       "      <th>AG_30</th>\n",
       "      <th>AG_40</th>\n",
       "      <th>AG_50</th>\n",
       "      <th>AG_60</th>\n",
       "      <th>GROUP_A_20</th>\n",
       "      <th>GROUP_A_30</th>\n",
       "      <th>GROUP_A_40</th>\n",
       "      <th>GROUP_A_50</th>\n",
       "      <th>GROUP_A_60</th>\n",
       "      <th>...</th>\n",
       "      <th>CJ_FURN</th>\n",
       "      <th>CJ_BOOK</th>\n",
       "      <th>CJ_APPL</th>\n",
       "      <th>CJ_HEALTH</th>\n",
       "      <th>CJ_SPORT</th>\n",
       "      <th>CJ_FOOD</th>\n",
       "      <th>CJ_PREG</th>\n",
       "      <th>CJ_CLOTH</th>\n",
       "      <th>CJ_ACC</th>\n",
       "      <th>CJ_BEAUTY</th>\n",
       "    </tr>\n",
       "    <tr>\n",
       "      <th>LABEL</th>\n",
       "      <th></th>\n",
       "      <th></th>\n",
       "      <th></th>\n",
       "      <th></th>\n",
       "      <th></th>\n",
       "      <th></th>\n",
       "      <th></th>\n",
       "      <th></th>\n",
       "      <th></th>\n",
       "      <th></th>\n",
       "      <th></th>\n",
       "      <th></th>\n",
       "      <th></th>\n",
       "      <th></th>\n",
       "      <th></th>\n",
       "      <th></th>\n",
       "      <th></th>\n",
       "      <th></th>\n",
       "      <th></th>\n",
       "      <th></th>\n",
       "      <th></th>\n",
       "    </tr>\n",
       "  </thead>\n",
       "  <tbody>\n",
       "    <tr>\n",
       "      <th>0</th>\n",
       "      <td>-0.214169</td>\n",
       "      <td>-0.204052</td>\n",
       "      <td>-0.111976</td>\n",
       "      <td>-0.172494</td>\n",
       "      <td>-0.323917</td>\n",
       "      <td>0.175702</td>\n",
       "      <td>0.399729</td>\n",
       "      <td>0.823332</td>\n",
       "      <td>0.527974</td>\n",
       "      <td>0.315764</td>\n",
       "      <td>...</td>\n",
       "      <td>1.057526</td>\n",
       "      <td>0.627089</td>\n",
       "      <td>1.106623</td>\n",
       "      <td>1.398126</td>\n",
       "      <td>0.447430</td>\n",
       "      <td>1.093904</td>\n",
       "      <td>0.580846</td>\n",
       "      <td>0.912218</td>\n",
       "      <td>1.398208</td>\n",
       "      <td>1.565218</td>\n",
       "    </tr>\n",
       "    <tr>\n",
       "      <th>1</th>\n",
       "      <td>-0.473081</td>\n",
       "      <td>-0.405025</td>\n",
       "      <td>-0.459779</td>\n",
       "      <td>-0.438355</td>\n",
       "      <td>-0.437899</td>\n",
       "      <td>0.021036</td>\n",
       "      <td>-0.153047</td>\n",
       "      <td>-0.160303</td>\n",
       "      <td>-0.073144</td>\n",
       "      <td>-0.019158</td>\n",
       "      <td>...</td>\n",
       "      <td>-0.178109</td>\n",
       "      <td>-0.032250</td>\n",
       "      <td>-0.141404</td>\n",
       "      <td>-0.227985</td>\n",
       "      <td>-0.063701</td>\n",
       "      <td>-0.235787</td>\n",
       "      <td>-0.364199</td>\n",
       "      <td>-0.156069</td>\n",
       "      <td>-0.263138</td>\n",
       "      <td>-0.297890</td>\n",
       "    </tr>\n",
       "    <tr>\n",
       "      <th>2</th>\n",
       "      <td>1.313761</td>\n",
       "      <td>1.140287</td>\n",
       "      <td>1.204694</td>\n",
       "      <td>1.197861</td>\n",
       "      <td>1.310317</td>\n",
       "      <td>-0.183050</td>\n",
       "      <td>0.073255</td>\n",
       "      <td>-0.226760</td>\n",
       "      <td>-0.217691</td>\n",
       "      <td>-0.190127</td>\n",
       "      <td>...</td>\n",
       "      <td>-0.359004</td>\n",
       "      <td>-0.391707</td>\n",
       "      <td>-0.485295</td>\n",
       "      <td>-0.492880</td>\n",
       "      <td>-0.180302</td>\n",
       "      <td>-0.245698</td>\n",
       "      <td>0.452100</td>\n",
       "      <td>-0.303746</td>\n",
       "      <td>-0.407256</td>\n",
       "      <td>-0.447807</td>\n",
       "    </tr>\n",
       "  </tbody>\n",
       "</table>\n",
       "<p>3 rows × 30 columns</p>\n",
       "</div>"
      ],
      "text/plain": [
       "          AG_20     AG_30     AG_40     AG_50     AG_60  GROUP_A_20  \\\n",
       "LABEL                                                                 \n",
       "0     -0.214169 -0.204052 -0.111976 -0.172494 -0.323917    0.175702   \n",
       "1     -0.473081 -0.405025 -0.459779 -0.438355 -0.437899    0.021036   \n",
       "2      1.313761  1.140287  1.204694  1.197861  1.310317   -0.183050   \n",
       "\n",
       "       GROUP_A_30  GROUP_A_40  GROUP_A_50  GROUP_A_60  ...   CJ_FURN  \\\n",
       "LABEL                                                  ...             \n",
       "0        0.399729    0.823332    0.527974    0.315764  ...  1.057526   \n",
       "1       -0.153047   -0.160303   -0.073144   -0.019158  ... -0.178109   \n",
       "2        0.073255   -0.226760   -0.217691   -0.190127  ... -0.359004   \n",
       "\n",
       "        CJ_BOOK   CJ_APPL  CJ_HEALTH  CJ_SPORT   CJ_FOOD   CJ_PREG  CJ_CLOTH  \\\n",
       "LABEL                                                                          \n",
       "0      0.627089  1.106623   1.398126  0.447430  1.093904  0.580846  0.912218   \n",
       "1     -0.032250 -0.141404  -0.227985 -0.063701 -0.235787 -0.364199 -0.156069   \n",
       "2     -0.391707 -0.485295  -0.492880 -0.180302 -0.245698  0.452100 -0.303746   \n",
       "\n",
       "         CJ_ACC  CJ_BEAUTY  \n",
       "LABEL                       \n",
       "0      1.398208   1.565218  \n",
       "1     -0.263138  -0.297890  \n",
       "2     -0.407256  -0.447807  \n",
       "\n",
       "[3 rows x 30 columns]"
      ]
     },
     "execution_count": 11,
     "metadata": {},
     "output_type": "execute_result"
    }
   ],
   "source": [
    "#각 군집에 따른 변수의 평균값\n",
    "features_scaled_list[0].groupby('LABEL').mean()"
   ]
  },
  {
   "cell_type": "code",
   "execution_count": 12,
   "metadata": {},
   "outputs": [
    {
     "name": "stdout",
     "output_type": "stream",
     "text": [
      "1군집: 고산2동, 남산1동, 만촌2동, 만촌3동, 범어3동, 범어4동, 상계10동, 상계9동, 수성1가동, 신당5동, 신당동, 황학동 \n",
      "\n",
      "2군집: 공릉1동, 공릉2동, 광희동, 남산2동, 대봉1동, 대신동, 동인동, 두산동, 만촌1동, 명동, 범물1동, 범어1동, 범어2동, 삼덕동, 상계1동, 상계6.7동, 상동, 성내1동, 성내2동, 성내3동, 소공동, 수성2.3가동, 수성4가동, 월계1동, 월계2동, 월계3동, 을지로동, 장충동, 중계1동, 중계2.3동, 중계4동, 중림동, 청구동, 파동, 필동, 하계1동, 하계2동, 황금1동, 회현동 \n",
      "\n",
      "3군집: 고산1동, 고산3동, 남산4동, 다산동, 동화동, 범물2동, 상계2동, 상계3.4동, 상계5동, 상계8동, 약수동, 중계본동, 중동, 지산1동, 지산2동, 황금2동 \n",
      "\n"
     ]
    }
   ],
   "source": [
    "print('1군집:', ', '.join(features_scaled_list[0].query('LABEL == 0').index.tolist()), '\\n' )\n",
    "print('2군집:', ', '.join(features_scaled_list[0].query('LABEL == 1').index.tolist()), '\\n' )\n",
    "print('3군집:', ', '.join(features_scaled_list[0].query('LABEL == 2').index.tolist()), '\\n' )"
   ]
  },
  {
   "cell_type": "code",
   "execution_count": 72,
   "metadata": {},
   "outputs": [],
   "source": [
    "df = pd.DataFrame(features_scaled_list[3])\n",
    "df.to_csv('clustered_04.csv')"
   ]
  },
  {
   "cell_type": "code",
   "execution_count": null,
   "metadata": {},
   "outputs": [],
   "source": []
  },
  {
   "cell_type": "code",
   "execution_count": null,
   "metadata": {},
   "outputs": [],
   "source": []
  },
  {
   "cell_type": "code",
   "execution_count": 13,
   "metadata": {},
   "outputs": [
    {
     "data": {
      "image/png": "[encoded data removed]",
      "text/plain": [
       "<Figure size 864x432 with 3 Axes>"
      ]
     },
     "metadata": {
      "needs_background": "light"
     },
     "output_type": "display_data"
    }
   ],
   "source": [
    "cluster_centers_visualize(1)"
   ]
  },
  {
   "cell_type": "code",
   "execution_count": 14,
   "metadata": {},
   "outputs": [
    {
     "data": {
      "text/plain": [
       "1    26\n",
       "0    22\n",
       "2    19\n",
       "Name: LABEL, dtype: int64"
      ]
     },
     "execution_count": 14,
     "metadata": {},
     "output_type": "execute_result"
    }
   ],
   "source": [
    "features_scaled_list[1]['LABEL'].value_counts()"
   ]
  },
  {
   "cell_type": "code",
   "execution_count": 15,
   "metadata": {},
   "outputs": [
    {
     "data": {
      "text/html": [
       "<div>\n",
       "<style scoped>\n",
       "    .dataframe tbody tr th:only-of-type {\n",
       "        vertical-align: middle;\n",
       "    }\n",
       "\n",
       "    .dataframe tbody tr th {\n",
       "        vertical-align: top;\n",
       "    }\n",
       "\n",
       "    .dataframe thead th {\n",
       "        text-align: right;\n",
       "    }\n",
       "</style>\n",
       "<table border=\"1\" class=\"dataframe\">\n",
       "  <thead>\n",
       "    <tr style=\"text-align: right;\">\n",
       "      <th></th>\n",
       "      <th>AG_20</th>\n",
       "      <th>AG_30</th>\n",
       "      <th>AG_40</th>\n",
       "      <th>AG_50</th>\n",
       "      <th>AG_60</th>\n",
       "      <th>GROUP_A_20</th>\n",
       "      <th>GROUP_A_30</th>\n",
       "      <th>GROUP_A_40</th>\n",
       "      <th>GROUP_A_50</th>\n",
       "      <th>GROUP_A_60</th>\n",
       "      <th>...</th>\n",
       "      <th>CJ_FURN</th>\n",
       "      <th>CJ_BOOK</th>\n",
       "      <th>CJ_APPL</th>\n",
       "      <th>CJ_HEALTH</th>\n",
       "      <th>CJ_SPORT</th>\n",
       "      <th>CJ_FOOD</th>\n",
       "      <th>CJ_PREG</th>\n",
       "      <th>CJ_CLOTH</th>\n",
       "      <th>CJ_ACC</th>\n",
       "      <th>CJ_BEAUTY</th>\n",
       "    </tr>\n",
       "    <tr>\n",
       "      <th>LABEL</th>\n",
       "      <th></th>\n",
       "      <th></th>\n",
       "      <th></th>\n",
       "      <th></th>\n",
       "      <th></th>\n",
       "      <th></th>\n",
       "      <th></th>\n",
       "      <th></th>\n",
       "      <th></th>\n",
       "      <th></th>\n",
       "      <th></th>\n",
       "      <th></th>\n",
       "      <th></th>\n",
       "      <th></th>\n",
       "      <th></th>\n",
       "      <th></th>\n",
       "      <th></th>\n",
       "      <th></th>\n",
       "      <th></th>\n",
       "      <th></th>\n",
       "      <th></th>\n",
       "    </tr>\n",
       "  </thead>\n",
       "  <tbody>\n",
       "    <tr>\n",
       "      <th>0</th>\n",
       "      <td>-0.186147</td>\n",
       "      <td>-0.434957</td>\n",
       "      <td>-0.277503</td>\n",
       "      <td>-0.207619</td>\n",
       "      <td>-0.189878</td>\n",
       "      <td>-0.126066</td>\n",
       "      <td>-0.224567</td>\n",
       "      <td>-0.157723</td>\n",
       "      <td>0.066297</td>\n",
       "      <td>-0.139143</td>\n",
       "      <td>...</td>\n",
       "      <td>0.551407</td>\n",
       "      <td>0.691614</td>\n",
       "      <td>0.838982</td>\n",
       "      <td>0.745766</td>\n",
       "      <td>0.42984</td>\n",
       "      <td>1.128459</td>\n",
       "      <td>0.170957</td>\n",
       "      <td>0.517848</td>\n",
       "      <td>0.566889</td>\n",
       "      <td>0.815045</td>\n",
       "    </tr>\n",
       "    <tr>\n",
       "      <th>1</th>\n",
       "      <td>0.643586</td>\n",
       "      <td>0.842687</td>\n",
       "      <td>0.752016</td>\n",
       "      <td>0.748035</td>\n",
       "      <td>0.739458</td>\n",
       "      <td>0.354241</td>\n",
       "      <td>0.402427</td>\n",
       "      <td>0.256504</td>\n",
       "      <td>0.238372</td>\n",
       "      <td>0.420226</td>\n",
       "      <td>...</td>\n",
       "      <td>0.240446</td>\n",
       "      <td>-0.118109</td>\n",
       "      <td>-0.096040</td>\n",
       "      <td>-0.188628</td>\n",
       "      <td>0.01694</td>\n",
       "      <td>-0.431155</td>\n",
       "      <td>0.314574</td>\n",
       "      <td>0.053340</td>\n",
       "      <td>0.325897</td>\n",
       "      <td>0.033638</td>\n",
       "    </tr>\n",
       "    <tr>\n",
       "      <th>2</th>\n",
       "      <td>-0.665158</td>\n",
       "      <td>-0.649516</td>\n",
       "      <td>-0.707755</td>\n",
       "      <td>-0.783226</td>\n",
       "      <td>-0.792031</td>\n",
       "      <td>-0.338780</td>\n",
       "      <td>-0.290665</td>\n",
       "      <td>-0.168379</td>\n",
       "      <td>-0.402959</td>\n",
       "      <td>-0.413933</td>\n",
       "      <td>...</td>\n",
       "      <td>-0.967503</td>\n",
       "      <td>-0.639193</td>\n",
       "      <td>-0.840029</td>\n",
       "      <td>-0.605396</td>\n",
       "      <td>-0.52089</td>\n",
       "      <td>-0.716635</td>\n",
       "      <td>-0.628420</td>\n",
       "      <td>-0.672605</td>\n",
       "      <td>-1.102362</td>\n",
       "      <td>-0.989767</td>\n",
       "    </tr>\n",
       "  </tbody>\n",
       "</table>\n",
       "<p>3 rows × 30 columns</p>\n",
       "</div>"
      ],
      "text/plain": [
       "          AG_20     AG_30     AG_40     AG_50     AG_60  GROUP_A_20  \\\n",
       "LABEL                                                                 \n",
       "0     -0.186147 -0.434957 -0.277503 -0.207619 -0.189878   -0.126066   \n",
       "1      0.643586  0.842687  0.752016  0.748035  0.739458    0.354241   \n",
       "2     -0.665158 -0.649516 -0.707755 -0.783226 -0.792031   -0.338780   \n",
       "\n",
       "       GROUP_A_30  GROUP_A_40  GROUP_A_50  GROUP_A_60  ...   CJ_FURN  \\\n",
       "LABEL                                                  ...             \n",
       "0       -0.224567   -0.157723    0.066297   -0.139143  ...  0.551407   \n",
       "1        0.402427    0.256504    0.238372    0.420226  ...  0.240446   \n",
       "2       -0.290665   -0.168379   -0.402959   -0.413933  ... -0.967503   \n",
       "\n",
       "        CJ_BOOK   CJ_APPL  CJ_HEALTH  CJ_SPORT   CJ_FOOD   CJ_PREG  CJ_CLOTH  \\\n",
       "LABEL                                                                          \n",
       "0      0.691614  0.838982   0.745766   0.42984  1.128459  0.170957  0.517848   \n",
       "1     -0.118109 -0.096040  -0.188628   0.01694 -0.431155  0.314574  0.053340   \n",
       "2     -0.639193 -0.840029  -0.605396  -0.52089 -0.716635 -0.628420 -0.672605   \n",
       "\n",
       "         CJ_ACC  CJ_BEAUTY  \n",
       "LABEL                       \n",
       "0      0.566889   0.815045  \n",
       "1      0.325897   0.033638  \n",
       "2     -1.102362  -0.989767  \n",
       "\n",
       "[3 rows x 30 columns]"
      ]
     },
     "execution_count": 15,
     "metadata": {},
     "output_type": "execute_result"
    }
   ],
   "source": [
    "#각 군집에 따른 변수의 평균값\n",
    "features_scaled_list[1].groupby('LABEL').mean()"
   ]
  },
  {
   "cell_type": "code",
   "execution_count": 16,
   "metadata": {},
   "outputs": [
    {
     "name": "stdout",
     "output_type": "stream",
     "text": [
      "1군집: 고산1동, 고산2동, 고산3동, 남산4동, 대봉1동, 만촌1동, 만촌2동, 만촌3동, 범물1동, 범어1동, 범어2동, 범어3동, 범어4동, 수성1가동, 수성2.3가동, 수성4가동, 신당5동, 중계1동, 중동, 지산1동, 파동, 황금1동 \n",
      "\n",
      "2군집: 공릉1동, 공릉2동, 다산동, 동화동, 범물2동, 상계10동, 상계1동, 상계2동, 상계3.4동, 상계5동, 상계6.7동, 상계8동, 상계9동, 신당동, 약수동, 월계1동, 월계2동, 월계3동, 중계4동, 중계본동, 중림동, 지산2동, 청구동, 하계2동, 황금2동, 황학동 \n",
      "\n",
      "3군집: 광희동, 남산1동, 남산2동, 대신동, 동인동, 두산동, 명동, 삼덕동, 상동, 성내1동, 성내2동, 성내3동, 소공동, 을지로동, 장충동, 중계2.3동, 필동, 하계1동, 회현동 \n",
      "\n"
     ]
    }
   ],
   "source": [
    "print('1군집:', ', '.join(features_scaled_list[1].query('LABEL == 0').index.tolist()), '\\n' )\n",
    "print('2군집:', ', '.join(features_scaled_list[1].query('LABEL == 1').index.tolist()), '\\n' )\n",
    "print('3군집:', ', '.join(features_scaled_list[1].query('LABEL == 2').index.tolist()), '\\n' )"
   ]
  },
  {
   "cell_type": "code",
   "execution_count": null,
   "metadata": {},
   "outputs": [],
   "source": []
  },
  {
   "cell_type": "code",
   "execution_count": null,
   "metadata": {},
   "outputs": [],
   "source": []
  },
  {
   "cell_type": "code",
   "execution_count": null,
   "metadata": {},
   "outputs": [],
   "source": []
  },
  {
   "cell_type": "code",
   "execution_count": null,
   "metadata": {},
   "outputs": [],
   "source": []
  },
  {
   "cell_type": "code",
   "execution_count": 17,
   "metadata": {},
   "outputs": [
    {
     "data": {
      "image/png": "[encoded data removed]",
      "text/plain": [
       "<Figure size 864x432 with 3 Axes>"
      ]
     },
     "metadata": {
      "needs_background": "light"
     },
     "output_type": "display_data"
    }
   ],
   "source": [
    "cluster_centers_visualize(2)"
   ]
  },
  {
   "cell_type": "code",
   "execution_count": 18,
   "metadata": {},
   "outputs": [
    {
     "data": {
      "text/plain": [
       "1    30\n",
       "0    26\n",
       "2    11\n",
       "Name: LABEL, dtype: int64"
      ]
     },
     "execution_count": 18,
     "metadata": {},
     "output_type": "execute_result"
    }
   ],
   "source": [
    "features_scaled_list[2]['LABEL'].value_counts()"
   ]
  },
  {
   "cell_type": "code",
   "execution_count": 19,
   "metadata": {},
   "outputs": [
    {
     "data": {
      "text/html": [
       "<div>\n",
       "<style scoped>\n",
       "    .dataframe tbody tr th:only-of-type {\n",
       "        vertical-align: middle;\n",
       "    }\n",
       "\n",
       "    .dataframe tbody tr th {\n",
       "        vertical-align: top;\n",
       "    }\n",
       "\n",
       "    .dataframe thead th {\n",
       "        text-align: right;\n",
       "    }\n",
       "</style>\n",
       "<table border=\"1\" class=\"dataframe\">\n",
       "  <thead>\n",
       "    <tr style=\"text-align: right;\">\n",
       "      <th></th>\n",
       "      <th>AG_20</th>\n",
       "      <th>AG_30</th>\n",
       "      <th>AG_40</th>\n",
       "      <th>AG_50</th>\n",
       "      <th>AG_60</th>\n",
       "      <th>GROUP_A_20</th>\n",
       "      <th>GROUP_A_30</th>\n",
       "      <th>GROUP_A_40</th>\n",
       "      <th>GROUP_A_50</th>\n",
       "      <th>GROUP_A_60</th>\n",
       "      <th>...</th>\n",
       "      <th>CJ_FURN</th>\n",
       "      <th>CJ_BOOK</th>\n",
       "      <th>CJ_APPL</th>\n",
       "      <th>CJ_HEALTH</th>\n",
       "      <th>CJ_SPORT</th>\n",
       "      <th>CJ_FOOD</th>\n",
       "      <th>CJ_PREG</th>\n",
       "      <th>CJ_CLOTH</th>\n",
       "      <th>CJ_ACC</th>\n",
       "      <th>CJ_BEAUTY</th>\n",
       "    </tr>\n",
       "    <tr>\n",
       "      <th>LABEL</th>\n",
       "      <th></th>\n",
       "      <th></th>\n",
       "      <th></th>\n",
       "      <th></th>\n",
       "      <th></th>\n",
       "      <th></th>\n",
       "      <th></th>\n",
       "      <th></th>\n",
       "      <th></th>\n",
       "      <th></th>\n",
       "      <th></th>\n",
       "      <th></th>\n",
       "      <th></th>\n",
       "      <th></th>\n",
       "      <th></th>\n",
       "      <th></th>\n",
       "      <th></th>\n",
       "      <th></th>\n",
       "      <th></th>\n",
       "      <th></th>\n",
       "      <th></th>\n",
       "    </tr>\n",
       "  </thead>\n",
       "  <tbody>\n",
       "    <tr>\n",
       "      <th>0</th>\n",
       "      <td>0.727475</td>\n",
       "      <td>0.807427</td>\n",
       "      <td>0.821777</td>\n",
       "      <td>0.723073</td>\n",
       "      <td>0.699774</td>\n",
       "      <td>0.313029</td>\n",
       "      <td>0.239477</td>\n",
       "      <td>0.509899</td>\n",
       "      <td>0.225339</td>\n",
       "      <td>-0.035833</td>\n",
       "      <td>...</td>\n",
       "      <td>0.347528</td>\n",
       "      <td>0.351963</td>\n",
       "      <td>0.088277</td>\n",
       "      <td>0.368473</td>\n",
       "      <td>0.178175</td>\n",
       "      <td>0.039703</td>\n",
       "      <td>0.180884</td>\n",
       "      <td>0.074252</td>\n",
       "      <td>0.049972</td>\n",
       "      <td>0.302365</td>\n",
       "    </tr>\n",
       "    <tr>\n",
       "      <th>1</th>\n",
       "      <td>-0.381569</td>\n",
       "      <td>-0.449464</td>\n",
       "      <td>-0.386266</td>\n",
       "      <td>-0.275610</td>\n",
       "      <td>-0.283438</td>\n",
       "      <td>-0.190724</td>\n",
       "      <td>-0.150769</td>\n",
       "      <td>-0.337043</td>\n",
       "      <td>-0.021869</td>\n",
       "      <td>0.268353</td>\n",
       "      <td>...</td>\n",
       "      <td>0.259928</td>\n",
       "      <td>0.220452</td>\n",
       "      <td>0.477160</td>\n",
       "      <td>0.286916</td>\n",
       "      <td>0.395490</td>\n",
       "      <td>0.558317</td>\n",
       "      <td>0.219015</td>\n",
       "      <td>0.360561</td>\n",
       "      <td>0.489799</td>\n",
       "      <td>0.305530</td>\n",
       "    </tr>\n",
       "    <tr>\n",
       "      <th>2</th>\n",
       "      <td>-0.678842</td>\n",
       "      <td>-0.682652</td>\n",
       "      <td>-0.888929</td>\n",
       "      <td>-0.957420</td>\n",
       "      <td>-0.881000</td>\n",
       "      <td>-0.219731</td>\n",
       "      <td>-0.154848</td>\n",
       "      <td>-0.286007</td>\n",
       "      <td>-0.472976</td>\n",
       "      <td>-0.647176</td>\n",
       "      <td>...</td>\n",
       "      <td>-1.530325</td>\n",
       "      <td>-1.433145</td>\n",
       "      <td>-1.510000</td>\n",
       "      <td>-1.653434</td>\n",
       "      <td>-1.499750</td>\n",
       "      <td>-1.616526</td>\n",
       "      <td>-1.024859</td>\n",
       "      <td>-1.158853</td>\n",
       "      <td>-1.453931</td>\n",
       "      <td>-1.547945</td>\n",
       "    </tr>\n",
       "  </tbody>\n",
       "</table>\n",
       "<p>3 rows × 30 columns</p>\n",
       "</div>"
      ],
      "text/plain": [
       "          AG_20     AG_30     AG_40     AG_50     AG_60  GROUP_A_20  \\\n",
       "LABEL                                                                 \n",
       "0      0.727475  0.807427  0.821777  0.723073  0.699774    0.313029   \n",
       "1     -0.381569 -0.449464 -0.386266 -0.275610 -0.283438   -0.190724   \n",
       "2     -0.678842 -0.682652 -0.888929 -0.957420 -0.881000   -0.219731   \n",
       "\n",
       "       GROUP_A_30  GROUP_A_40  GROUP_A_50  GROUP_A_60  ...   CJ_FURN  \\\n",
       "LABEL                                                  ...             \n",
       "0        0.239477    0.509899    0.225339   -0.035833  ...  0.347528   \n",
       "1       -0.150769   -0.337043   -0.021869    0.268353  ...  0.259928   \n",
       "2       -0.154848   -0.286007   -0.472976   -0.647176  ... -1.530325   \n",
       "\n",
       "        CJ_BOOK   CJ_APPL  CJ_HEALTH  CJ_SPORT   CJ_FOOD   CJ_PREG  CJ_CLOTH  \\\n",
       "LABEL                                                                          \n",
       "0      0.351963  0.088277   0.368473  0.178175  0.039703  0.180884  0.074252   \n",
       "1      0.220452  0.477160   0.286916  0.395490  0.558317  0.219015  0.360561   \n",
       "2     -1.433145 -1.510000  -1.653434 -1.499750 -1.616526 -1.024859 -1.158853   \n",
       "\n",
       "         CJ_ACC  CJ_BEAUTY  \n",
       "LABEL                       \n",
       "0      0.049972   0.302365  \n",
       "1      0.489799   0.305530  \n",
       "2     -1.453931  -1.547945  \n",
       "\n",
       "[3 rows x 30 columns]"
      ]
     },
     "execution_count": 19,
     "metadata": {},
     "output_type": "execute_result"
    }
   ],
   "source": [
    "#각 군집에 따른 변수의 평균값\n",
    "features_scaled_list[2].groupby('LABEL').mean()"
   ]
  },
  {
   "cell_type": "code",
   "execution_count": 20,
   "metadata": {},
   "outputs": [
    {
     "name": "stdout",
     "output_type": "stream",
     "text": [
      "1군집: 고산1동, 고산3동, 공릉1동, 공릉2동, 남산4동, 다산동, 동화동, 범물2동, 상계10동, 상계1동, 상계2동, 상계3.4동, 상계5동, 상계6.7동, 상계8동, 상계9동, 월계1동, 월계2동, 월계3동, 중계1동, 중계4동, 중계본동, 중동, 청구동, 하계2동, 황학동 \n",
      "\n",
      "2군집: 고산2동, 남산1동, 남산2동, 대봉1동, 대신동, 두산동, 만촌1동, 만촌2동, 만촌3동, 범물1동, 범어1동, 범어2동, 범어3동, 범어4동, 상동, 성내3동, 수성1가동, 수성2.3가동, 수성4가동, 신당5동, 신당동, 약수동, 중계2.3동, 중림동, 지산1동, 지산2동, 파동, 하계1동, 황금1동, 황금2동 \n",
      "\n",
      "3군집: 광희동, 동인동, 명동, 삼덕동, 성내1동, 성내2동, 소공동, 을지로동, 장충동, 필동, 회현동 \n",
      "\n"
     ]
    }
   ],
   "source": [
    "print('1군집:', ', '.join(features_scaled_list[2].query('LABEL == 0').index.tolist()), '\\n' )\n",
    "print('2군집:', ', '.join(features_scaled_list[2].query('LABEL == 1').index.tolist()), '\\n' )\n",
    "print('3군집:', ', '.join(features_scaled_list[2].query('LABEL == 2').index.tolist()), '\\n' )"
   ]
  },
  {
   "cell_type": "code",
   "execution_count": null,
   "metadata": {},
   "outputs": [],
   "source": []
  },
  {
   "cell_type": "code",
   "execution_count": null,
   "metadata": {},
   "outputs": [],
   "source": []
  },
  {
   "cell_type": "code",
   "execution_count": null,
   "metadata": {},
   "outputs": [],
   "source": []
  },
  {
   "cell_type": "code",
   "execution_count": null,
   "metadata": {},
   "outputs": [],
   "source": []
  },
  {
   "cell_type": "code",
   "execution_count": 21,
   "metadata": {},
   "outputs": [
    {
     "data": {
      "image/png": "[encoded data removed]",
      "text/plain": [
       "<Figure size 864x432 with 3 Axes>"
      ]
     },
     "metadata": {
      "needs_background": "light"
     },
     "output_type": "display_data"
    }
   ],
   "source": [
    "cluster_centers_visualize(3)"
   ]
  },
  {
   "cell_type": "code",
   "execution_count": 22,
   "metadata": {},
   "outputs": [
    {
     "data": {
      "text/plain": [
       "2    36\n",
       "1    17\n",
       "0    14\n",
       "Name: LABEL, dtype: int64"
      ]
     },
     "execution_count": 22,
     "metadata": {},
     "output_type": "execute_result"
    }
   ],
   "source": [
    "features_scaled_list[3]['LABEL'].value_counts()"
   ]
  },
  {
   "cell_type": "code",
   "execution_count": 23,
   "metadata": {},
   "outputs": [
    {
     "data": {
      "text/html": [
       "<div>\n",
       "<style scoped>\n",
       "    .dataframe tbody tr th:only-of-type {\n",
       "        vertical-align: middle;\n",
       "    }\n",
       "\n",
       "    .dataframe tbody tr th {\n",
       "        vertical-align: top;\n",
       "    }\n",
       "\n",
       "    .dataframe thead th {\n",
       "        text-align: right;\n",
       "    }\n",
       "</style>\n",
       "<table border=\"1\" class=\"dataframe\">\n",
       "  <thead>\n",
       "    <tr style=\"text-align: right;\">\n",
       "      <th></th>\n",
       "      <th>AG_20</th>\n",
       "      <th>AG_30</th>\n",
       "      <th>AG_40</th>\n",
       "      <th>AG_50</th>\n",
       "      <th>AG_60</th>\n",
       "      <th>GROUP_A_20</th>\n",
       "      <th>GROUP_A_30</th>\n",
       "      <th>GROUP_A_40</th>\n",
       "      <th>GROUP_A_50</th>\n",
       "      <th>GROUP_A_60</th>\n",
       "      <th>...</th>\n",
       "      <th>CJ_FURN</th>\n",
       "      <th>CJ_BOOK</th>\n",
       "      <th>CJ_APPL</th>\n",
       "      <th>CJ_HEALTH</th>\n",
       "      <th>CJ_SPORT</th>\n",
       "      <th>CJ_FOOD</th>\n",
       "      <th>CJ_PREG</th>\n",
       "      <th>CJ_CLOTH</th>\n",
       "      <th>CJ_ACC</th>\n",
       "      <th>CJ_BEAUTY</th>\n",
       "    </tr>\n",
       "    <tr>\n",
       "      <th>LABEL</th>\n",
       "      <th></th>\n",
       "      <th></th>\n",
       "      <th></th>\n",
       "      <th></th>\n",
       "      <th></th>\n",
       "      <th></th>\n",
       "      <th></th>\n",
       "      <th></th>\n",
       "      <th></th>\n",
       "      <th></th>\n",
       "      <th></th>\n",
       "      <th></th>\n",
       "      <th></th>\n",
       "      <th></th>\n",
       "      <th></th>\n",
       "      <th></th>\n",
       "      <th></th>\n",
       "      <th></th>\n",
       "      <th></th>\n",
       "      <th></th>\n",
       "      <th></th>\n",
       "    </tr>\n",
       "  </thead>\n",
       "  <tbody>\n",
       "    <tr>\n",
       "      <th>0</th>\n",
       "      <td>-0.612011</td>\n",
       "      <td>-0.549768</td>\n",
       "      <td>-0.784642</td>\n",
       "      <td>-0.758095</td>\n",
       "      <td>-0.682392</td>\n",
       "      <td>-0.351218</td>\n",
       "      <td>-0.164003</td>\n",
       "      <td>-0.486203</td>\n",
       "      <td>-0.079603</td>\n",
       "      <td>-0.410725</td>\n",
       "      <td>...</td>\n",
       "      <td>-1.134478</td>\n",
       "      <td>-0.947605</td>\n",
       "      <td>-0.907427</td>\n",
       "      <td>-1.397626</td>\n",
       "      <td>-0.981373</td>\n",
       "      <td>-0.932769</td>\n",
       "      <td>-1.126885</td>\n",
       "      <td>-0.887872</td>\n",
       "      <td>-0.692543</td>\n",
       "      <td>-0.982920</td>\n",
       "    </tr>\n",
       "    <tr>\n",
       "      <th>1</th>\n",
       "      <td>1.091939</td>\n",
       "      <td>1.269779</td>\n",
       "      <td>1.341261</td>\n",
       "      <td>1.194346</td>\n",
       "      <td>1.219170</td>\n",
       "      <td>0.374537</td>\n",
       "      <td>-0.108841</td>\n",
       "      <td>0.403595</td>\n",
       "      <td>-0.043991</td>\n",
       "      <td>-0.081744</td>\n",
       "      <td>...</td>\n",
       "      <td>0.256915</td>\n",
       "      <td>0.272015</td>\n",
       "      <td>0.171606</td>\n",
       "      <td>0.333105</td>\n",
       "      <td>0.277726</td>\n",
       "      <td>0.032590</td>\n",
       "      <td>0.098881</td>\n",
       "      <td>0.417151</td>\n",
       "      <td>0.153921</td>\n",
       "      <td>0.232050</td>\n",
       "    </tr>\n",
       "    <tr>\n",
       "      <th>2</th>\n",
       "      <td>-0.277634</td>\n",
       "      <td>-0.385819</td>\n",
       "      <td>-0.328235</td>\n",
       "      <td>-0.269182</td>\n",
       "      <td>-0.310345</td>\n",
       "      <td>-0.040280</td>\n",
       "      <td>0.115176</td>\n",
       "      <td>-0.001507</td>\n",
       "      <td>0.051730</td>\n",
       "      <td>0.198328</td>\n",
       "      <td>...</td>\n",
       "      <td>0.319865</td>\n",
       "      <td>0.240062</td>\n",
       "      <td>0.271852</td>\n",
       "      <td>0.386222</td>\n",
       "      <td>0.250497</td>\n",
       "      <td>0.347354</td>\n",
       "      <td>0.391539</td>\n",
       "      <td>0.148296</td>\n",
       "      <td>0.196637</td>\n",
       "      <td>0.272667</td>\n",
       "    </tr>\n",
       "  </tbody>\n",
       "</table>\n",
       "<p>3 rows × 30 columns</p>\n",
       "</div>"
      ],
      "text/plain": [
       "          AG_20     AG_30     AG_40     AG_50     AG_60  GROUP_A_20  \\\n",
       "LABEL                                                                 \n",
       "0     -0.612011 -0.549768 -0.784642 -0.758095 -0.682392   -0.351218   \n",
       "1      1.091939  1.269779  1.341261  1.194346  1.219170    0.374537   \n",
       "2     -0.277634 -0.385819 -0.328235 -0.269182 -0.310345   -0.040280   \n",
       "\n",
       "       GROUP_A_30  GROUP_A_40  GROUP_A_50  GROUP_A_60  ...   CJ_FURN  \\\n",
       "LABEL                                                  ...             \n",
       "0       -0.164003   -0.486203   -0.079603   -0.410725  ... -1.134478   \n",
       "1       -0.108841    0.403595   -0.043991   -0.081744  ...  0.256915   \n",
       "2        0.115176   -0.001507    0.051730    0.198328  ...  0.319865   \n",
       "\n",
       "        CJ_BOOK   CJ_APPL  CJ_HEALTH  CJ_SPORT   CJ_FOOD   CJ_PREG  CJ_CLOTH  \\\n",
       "LABEL                                                                          \n",
       "0     -0.947605 -0.907427  -1.397626 -0.981373 -0.932769 -1.126885 -0.887872   \n",
       "1      0.272015  0.171606   0.333105  0.277726  0.032590  0.098881  0.417151   \n",
       "2      0.240062  0.271852   0.386222  0.250497  0.347354  0.391539  0.148296   \n",
       "\n",
       "         CJ_ACC  CJ_BEAUTY  \n",
       "LABEL                       \n",
       "0     -0.692543  -0.982920  \n",
       "1      0.153921   0.232050  \n",
       "2      0.196637   0.272667  \n",
       "\n",
       "[3 rows x 30 columns]"
      ]
     },
     "execution_count": 23,
     "metadata": {},
     "output_type": "execute_result"
    }
   ],
   "source": [
    "#각 군집에 따른 변수의 평균값\n",
    "features_scaled_list[3].groupby('LABEL').mean()"
   ]
  },
  {
   "cell_type": "code",
   "execution_count": 24,
   "metadata": {},
   "outputs": [
    {
     "name": "stdout",
     "output_type": "stream",
     "text": [
      "1군집: 광희동, 남산2동, 동인동, 동화동, 명동, 삼덕동, 성내1동, 성내2동, 소공동, 을지로동, 장충동, 파동, 필동, 회현동 \n",
      "\n",
      "2군집: 공릉1동, 남산4동, 대봉1동, 범어4동, 상계1동, 상계3.4동, 상계5동, 상계6.7동, 상계8동, 상계9동, 월계2동, 월계3동, 중계1동, 중계2.3동, 중계4동, 중계본동, 중동 \n",
      "\n",
      "3군집: 고산1동, 고산2동, 고산3동, 공릉2동, 남산1동, 다산동, 대신동, 두산동, 만촌1동, 만촌2동, 만촌3동, 범물1동, 범물2동, 범어1동, 범어2동, 범어3동, 상계10동, 상계2동, 상동, 성내3동, 수성1가동, 수성2.3가동, 수성4가동, 신당5동, 신당동, 약수동, 월계1동, 중림동, 지산1동, 지산2동, 청구동, 하계1동, 하계2동, 황금1동, 황금2동, 황학동 \n",
      "\n"
     ]
    }
   ],
   "source": [
    "print('1군집:', ', '.join(features_scaled_list[3].query('LABEL == 0').index.tolist()), '\\n' )\n",
    "print('2군집:', ', '.join(features_scaled_list[3].query('LABEL == 1').index.tolist()), '\\n' )\n",
    "print('3군집:', ', '.join(features_scaled_list[3].query('LABEL == 2').index.tolist()), '\\n' )"
   ]
  },
  {
   "cell_type": "code",
   "execution_count": null,
   "metadata": {},
   "outputs": [],
   "source": []
  },
  {
   "cell_type": "code",
   "execution_count": null,
   "metadata": {},
   "outputs": [],
   "source": []
  },
  {
   "cell_type": "code",
   "execution_count": null,
   "metadata": {},
   "outputs": [],
   "source": []
  },
  {
   "cell_type": "code",
   "execution_count": null,
   "metadata": {},
   "outputs": [],
   "source": []
  },
  {
   "cell_type": "code",
   "execution_count": null,
   "metadata": {},
   "outputs": [],
   "source": []
  },
  {
   "cell_type": "code",
   "execution_count": null,
   "metadata": {},
   "outputs": [],
   "source": []
  },
  {
   "cell_type": "code",
   "execution_count": null,
   "metadata": {},
   "outputs": [],
   "source": []
  },
  {
   "cell_type": "code",
   "execution_count": null,
   "metadata": {},
   "outputs": [],
   "source": []
  },
  {
   "cell_type": "code",
   "execution_count": null,
   "metadata": {},
   "outputs": [],
   "source": []
  },
  {
   "cell_type": "code",
   "execution_count": null,
   "metadata": {},
   "outputs": [],
   "source": []
  },
  {
   "cell_type": "code",
   "execution_count": null,
   "metadata": {},
   "outputs": [],
   "source": []
  },
  {
   "cell_type": "code",
   "execution_count": null,
   "metadata": {},
   "outputs": [],
   "source": []
  },
  {
   "cell_type": "code",
   "execution_count": null,
   "metadata": {},
   "outputs": [],
   "source": []
  },
  {
   "cell_type": "markdown",
   "metadata": {},
   "source": [
    "# 분류문제 정확도, 정밀도, 재현율 확인"
   ]
  },
  {
   "cell_type": "code",
   "execution_count": 25,
   "metadata": {},
   "outputs": [],
   "source": [
    "X = pd.concat([features_scaled_list[1].iloc[:, :-1], pd.get_dummies(features_scaled_list[0]['LABEL'])], axis=1)\n",
    "y = features_scaled_list[1].iloc[:, -1]"
   ]
  },
  {
   "cell_type": "code",
   "execution_count": 26,
   "metadata": {},
   "outputs": [],
   "source": [
    "X = features_scaled_list[1].iloc[:, :-1]\n",
    "y = features_scaled_list[1].iloc[:, -1]"
   ]
  },
  {
   "cell_type": "code",
   "execution_count": 27,
   "metadata": {},
   "outputs": [],
   "source": [
    "X_train, X_test, y_train, y_test = train_test_split(X, y, test_size=0.3, stratify=y, random_state=123)"
   ]
  },
  {
   "cell_type": "code",
   "execution_count": 28,
   "metadata": {},
   "outputs": [
    {
     "data": {
      "text/plain": [
       "DecisionTreeClassifier(ccp_alpha=0.0, class_weight=None, criterion='gini',\n",
       "                       max_depth=2, max_features=None, max_leaf_nodes=None,\n",
       "                       min_impurity_decrease=0.0, min_impurity_split=None,\n",
       "                       min_samples_leaf=2, min_samples_split=2,\n",
       "                       min_weight_fraction_leaf=0.0, presort='deprecated',\n",
       "                       random_state=124, splitter='best')"
      ]
     },
     "execution_count": 28,
     "metadata": {},
     "output_type": "execute_result"
    }
   ],
   "source": [
    "dt_clf = DecisionTreeClassifier(max_depth=2, min_samples_leaf=2, random_state=124)\n",
    "dt_clf.fit(X_train, y_train)"
   ]
  },
  {
   "cell_type": "code",
   "execution_count": 29,
   "metadata": {},
   "outputs": [],
   "source": [
    "dt_pred = dt_clf.predict(X_test)"
   ]
  },
  {
   "cell_type": "code",
   "execution_count": 30,
   "metadata": {},
   "outputs": [
    {
     "name": "stdout",
     "output_type": "stream",
     "text": [
      "정확도: 0.7619, 정밀도: 0.7643, 재현율: 0.7619\n"
     ]
    }
   ],
   "source": [
    "accuracy = accuracy_score(y_test, dt_pred)\n",
    "precision = precision_score(y_test, dt_pred, average='weighted')\n",
    "recall = recall_score(y_test, dt_pred, average='weighted')\n",
    "print('정확도: {0:.4f}, 정밀도: {1:.4f}, 재현율: {2:.4f}'.format(accuracy, precision, recall))"
   ]
  },
  {
   "cell_type": "code",
   "execution_count": 31,
   "metadata": {},
   "outputs": [],
   "source": [
    "cv_score = cross_val_score(dt_clf, X_train, y_train, scoring='accuracy', cv=5)"
   ]
  },
  {
   "cell_type": "code",
   "execution_count": 32,
   "metadata": {},
   "outputs": [
    {
     "data": {
      "text/plain": [
       "0.8467"
      ]
     },
     "execution_count": 32,
     "metadata": {},
     "output_type": "execute_result"
    }
   ],
   "source": [
    "round(np.mean(cv_score), 4)"
   ]
  },
  {
   "cell_type": "code",
   "execution_count": 33,
   "metadata": {},
   "outputs": [
    {
     "data": {
      "text/plain": [
       "array([[6, 1, 0],\n",
       "       [1, 6, 1],\n",
       "       [1, 1, 4]])"
      ]
     },
     "execution_count": 33,
     "metadata": {},
     "output_type": "execute_result"
    }
   ],
   "source": [
    "confusion_matrix(y_test, dt_pred)"
   ]
  },
  {
   "cell_type": "code",
   "execution_count": 34,
   "metadata": {},
   "outputs": [
    {
     "data": {
      "text/plain": [
       "RandomForestClassifier(bootstrap=True, ccp_alpha=0.0, class_weight=None,\n",
       "                       criterion='gini', max_depth=2, max_features='auto',\n",
       "                       max_leaf_nodes=None, max_samples=None,\n",
       "                       min_impurity_decrease=0.0, min_impurity_split=None,\n",
       "                       min_samples_leaf=1, min_samples_split=2,\n",
       "                       min_weight_fraction_leaf=0.0, n_estimators=200,\n",
       "                       n_jobs=None, oob_score=False, random_state=None,\n",
       "                       verbose=0, warm_start=False)"
      ]
     },
     "execution_count": 34,
     "metadata": {},
     "output_type": "execute_result"
    }
   ],
   "source": [
    "rf_clf = RandomForestClassifier(n_estimators=200, max_depth=2)\n",
    "rf_clf.fit(X_train, y_train)"
   ]
  },
  {
   "cell_type": "code",
   "execution_count": 35,
   "metadata": {},
   "outputs": [],
   "source": [
    "rf_pred = rf_clf.predict(X_test)"
   ]
  },
  {
   "cell_type": "code",
   "execution_count": 36,
   "metadata": {},
   "outputs": [
    {
     "name": "stdout",
     "output_type": "stream",
     "text": [
      "정확도: 0.7619, 정밀도: 0.7670, 재현율: 0.7619\n"
     ]
    }
   ],
   "source": [
    "accuracy = accuracy_score(y_test, rf_pred)\n",
    "precision = precision_score(y_test, rf_pred, average='weighted')\n",
    "recall = recall_score(y_test, rf_pred, average='weighted')\n",
    "print('정확도: {0:.4f}, 정밀도: {1:.4f}, 재현율: {2:.4f}'.format(accuracy, precision, recall))"
   ]
  },
  {
   "cell_type": "code",
   "execution_count": 37,
   "metadata": {},
   "outputs": [
    {
     "data": {
      "text/plain": [
       "array([[4, 2, 1],\n",
       "       [0, 7, 1],\n",
       "       [1, 0, 5]])"
      ]
     },
     "execution_count": 37,
     "metadata": {},
     "output_type": "execute_result"
    }
   ],
   "source": [
    "confusion_matrix(y_test, rf_pred)"
   ]
  },
  {
   "cell_type": "code",
   "execution_count": 38,
   "metadata": {},
   "outputs": [
    {
     "data": {
      "text/plain": [
       "LinearSVC(C=1, class_weight=None, dual=True, fit_intercept=True,\n",
       "          intercept_scaling=1, loss='hinge', max_iter=1000, multi_class='ovr',\n",
       "          penalty='l2', random_state=None, tol=0.0001, verbose=0)"
      ]
     },
     "execution_count": 38,
     "metadata": {},
     "output_type": "execute_result"
    }
   ],
   "source": [
    "svm_clf = LinearSVC(C=1, loss='hinge')\n",
    "svm_clf.fit(X_train, y_train)"
   ]
  },
  {
   "cell_type": "code",
   "execution_count": 39,
   "metadata": {},
   "outputs": [],
   "source": [
    "svm_pred = svm_clf.predict(X_test)"
   ]
  },
  {
   "cell_type": "code",
   "execution_count": 40,
   "metadata": {},
   "outputs": [
    {
     "name": "stdout",
     "output_type": "stream",
     "text": [
      "정확도: 0.9524, 정밀도: 0.9592, 재현율: 0.9524\n"
     ]
    }
   ],
   "source": [
    "accuracy = accuracy_score(y_test, svm_pred)\n",
    "precision = precision_score(y_test, svm_pred, average='weighted')\n",
    "recall = recall_score(y_test, svm_pred, average='weighted')\n",
    "print('정확도: {0:.4f}, 정밀도: {1:.4f}, 재현율: {2:.4f}'.format(accuracy, precision, recall))"
   ]
  },
  {
   "cell_type": "code",
   "execution_count": 41,
   "metadata": {},
   "outputs": [
    {
     "data": {
      "text/plain": [
       "array([[7, 0, 0],\n",
       "       [0, 7, 1],\n",
       "       [0, 0, 6]])"
      ]
     },
     "execution_count": 41,
     "metadata": {},
     "output_type": "execute_result"
    }
   ],
   "source": [
    "confusion_matrix(y_test, svm_pred)"
   ]
  },
  {
   "cell_type": "code",
   "execution_count": 42,
   "metadata": {},
   "outputs": [],
   "source": [
    "poly_svm_clf = SVC(C=1, coef0=1, kernel='poly', degree=3)"
   ]
  },
  {
   "cell_type": "code",
   "execution_count": 43,
   "metadata": {},
   "outputs": [
    {
     "data": {
      "text/plain": [
       "SVC(C=1, break_ties=False, cache_size=200, class_weight=None, coef0=1,\n",
       "    decision_function_shape='ovr', degree=3, gamma='scale', kernel='poly',\n",
       "    max_iter=-1, probability=False, random_state=None, shrinking=True,\n",
       "    tol=0.001, verbose=False)"
      ]
     },
     "execution_count": 43,
     "metadata": {},
     "output_type": "execute_result"
    }
   ],
   "source": [
    "poly_svm_clf.fit(X_train, y_train)"
   ]
  },
  {
   "cell_type": "code",
   "execution_count": 44,
   "metadata": {},
   "outputs": [],
   "source": [
    "poly_pred = poly_svm_clf.predict(X_test)"
   ]
  },
  {
   "cell_type": "code",
   "execution_count": 45,
   "metadata": {},
   "outputs": [
    {
     "name": "stdout",
     "output_type": "stream",
     "text": [
      "정확도: 0.9048, 정밀도: 0.9169, 재현율: 0.9048\n"
     ]
    }
   ],
   "source": [
    "accuracy = accuracy_score(y_test, poly_pred)\n",
    "precision = precision_score(y_test, poly_pred, average='weighted')\n",
    "recall = recall_score(y_test, poly_pred, average='weighted')\n",
    "print('정확도: {0:.4f}, 정밀도: {1:.4f}, 재현율: {2:.4f}'.format(accuracy, precision, recall))"
   ]
  },
  {
   "cell_type": "code",
   "execution_count": 46,
   "metadata": {},
   "outputs": [
    {
     "data": {
      "text/plain": [
       "LogisticRegression(C=1.0, class_weight=None, dual=False, fit_intercept=True,\n",
       "                   intercept_scaling=1, l1_ratio=None, max_iter=100,\n",
       "                   multi_class='auto', n_jobs=None, penalty='l2',\n",
       "                   random_state=None, solver='liblinear', tol=0.0001, verbose=0,\n",
       "                   warm_start=False)"
      ]
     },
     "execution_count": 46,
     "metadata": {},
     "output_type": "execute_result"
    }
   ],
   "source": [
    "lr_clf = LogisticRegression(solver='liblinear')\n",
    "lr_clf.fit(X_train, y_train)"
   ]
  },
  {
   "cell_type": "code",
   "execution_count": 47,
   "metadata": {},
   "outputs": [],
   "source": [
    "lr_pred = lr_clf.predict(X_test)"
   ]
  },
  {
   "cell_type": "code",
   "execution_count": 48,
   "metadata": {},
   "outputs": [
    {
     "name": "stdout",
     "output_type": "stream",
     "text": [
      "정확도: 0.9524, 정밀도: 0.9592, 재현율: 0.9524\n"
     ]
    }
   ],
   "source": [
    "accuracy = accuracy_score(y_test, lr_pred)\n",
    "precision = precision_score(y_test, lr_pred, average='weighted')\n",
    "recall = recall_score(y_test, lr_pred, average='weighted')\n",
    "print('정확도: {0:.4f}, 정밀도: {1:.4f}, 재현율: {2:.4f}'.format(accuracy, precision, recall))"
   ]
  },
  {
   "cell_type": "code",
   "execution_count": null,
   "metadata": {},
   "outputs": [],
   "source": []
  },
  {
   "cell_type": "code",
   "execution_count": 49,
   "metadata": {},
   "outputs": [
    {
     "ename": "NameError",
     "evalue": "name 'co' is not defined",
     "output_type": "error",
     "traceback": [
      "\u001b[0;31m---------------------------------------------------------------------------\u001b[0m",
      "\u001b[0;31mNameError\u001b[0m                                 Traceback (most recent call last)",
      "\u001b[0;32m<ipython-input-49-e1343f7229e0>\u001b[0m in \u001b[0;36m<module>\u001b[0;34m\u001b[0m\n\u001b[0;32m----> 1\u001b[0;31m \u001b[0mco\u001b[0m\u001b[0;34m\u001b[0m\u001b[0;34m\u001b[0m\u001b[0m\n\u001b[0m",
      "\u001b[0;31mNameError\u001b[0m: name 'co' is not defined"
     ]
    }
   ],
   "source": [
    "co"
   ]
  },
  {
   "cell_type": "code",
   "execution_count": null,
   "metadata": {},
   "outputs": [],
   "source": [
    "co = pd.read_csv('../data/covid-data.csv')"
   ]
  },
  {
   "cell_type": "code",
   "execution_count": null,
   "metadata": {},
   "outputs": [],
   "source": [
    "a = co.query('location == \"South Korea\"')"
   ]
  },
  {
   "cell_type": "code",
   "execution_count": null,
   "metadata": {},
   "outputs": [],
   "source": [
    "a = a.set_index('date')"
   ]
  },
  {
   "cell_type": "code",
   "execution_count": null,
   "metadata": {},
   "outputs": [],
   "source": [
    "a = a['new_cases']"
   ]
  },
  {
   "cell_type": "code",
   "execution_count": null,
   "metadata": {},
   "outputs": [],
   "source": [
    "a.plot(figsize = (20,10))\n",
    "plt.show()"
   ]
  },
  {
   "cell_type": "code",
   "execution_count": null,
   "metadata": {},
   "outputs": [],
   "source": [
    "co.query('location == \"South Korea\"')"
   ]
  },
  {
   "cell_type": "code",
   "execution_count": null,
   "metadata": {},
   "outputs": [],
   "source": []
  }
 ],
 "metadata": {
  "kernelspec": {
   "display_name": "Python 3",
   "language": "python",
   "name": "python3"
  },
  "language_info": {
   "codemirror_mode": {
    "name": "ipython",
    "version": 3
   },
   "file_extension": ".py",
   "mimetype": "text/x-python",
   "name": "python",
   "nbconvert_exporter": "python",
   "pygments_lexer": "ipython3",
   "version": "3.7.6"
  }
 },
 "nbformat": 4,
 "nbformat_minor": 4
}
