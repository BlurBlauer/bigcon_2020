{
 "cells": [
  {
   "cell_type": "code",
   "execution_count": 1,
   "metadata": {},
   "outputs": [],
   "source": [
    "import numpy as np\n",
    "import pandas as pd\n",
    "import seaborn as sns\n",
    "import matplotlib.pyplot as plt\n",
    "import eda"
   ]
  },
  {
   "cell_type": "markdown",
   "metadata": {},
   "source": [
    "## 유동인구"
   ]
  },
  {
   "cell_type": "markdown",
   "metadata": {},
   "source": [
    "**성연령**"
   ]
  },
  {
   "cell_type": "code",
   "execution_count": 2,
   "metadata": {
    "scrolled": true
   },
   "outputs": [
    {
     "name": "stdout",
     "output_type": "stream",
     "text": [
      "(332580, 6)\n"
     ]
    },
    {
     "data": {
      "text/html": [
       "<div>\n",
       "<style scoped>\n",
       "    .dataframe tbody tr th:only-of-type {\n",
       "        vertical-align: middle;\n",
       "    }\n",
       "\n",
       "    .dataframe tbody tr th {\n",
       "        vertical-align: top;\n",
       "    }\n",
       "\n",
       "    .dataframe thead th {\n",
       "        text-align: right;\n",
       "    }\n",
       "</style>\n",
       "<table border=\"1\" class=\"dataframe\">\n",
       "  <thead>\n",
       "    <tr style=\"text-align: right;\">\n",
       "      <th></th>\n",
       "      <th>STD_YMD</th>\n",
       "      <th>GU_NM</th>\n",
       "      <th>HDONG_NM</th>\n",
       "      <th>SEX_CD</th>\n",
       "      <th>AGE_CD</th>\n",
       "      <th>POP_CNT</th>\n",
       "    </tr>\n",
       "  </thead>\n",
       "  <tbody>\n",
       "    <tr>\n",
       "      <th>0</th>\n",
       "      <td>2019-02-01</td>\n",
       "      <td>대구 수성구</td>\n",
       "      <td>고산1동</td>\n",
       "      <td>F</td>\n",
       "      <td>20</td>\n",
       "      <td>8940.65</td>\n",
       "    </tr>\n",
       "    <tr>\n",
       "      <th>1</th>\n",
       "      <td>2019-02-01</td>\n",
       "      <td>대구 수성구</td>\n",
       "      <td>고산1동</td>\n",
       "      <td>F</td>\n",
       "      <td>25</td>\n",
       "      <td>3686.51</td>\n",
       "    </tr>\n",
       "    <tr>\n",
       "      <th>2</th>\n",
       "      <td>2019-02-01</td>\n",
       "      <td>대구 수성구</td>\n",
       "      <td>고산1동</td>\n",
       "      <td>F</td>\n",
       "      <td>30</td>\n",
       "      <td>3505.06</td>\n",
       "    </tr>\n",
       "    <tr>\n",
       "      <th>3</th>\n",
       "      <td>2019-02-01</td>\n",
       "      <td>대구 수성구</td>\n",
       "      <td>고산1동</td>\n",
       "      <td>F</td>\n",
       "      <td>35</td>\n",
       "      <td>5378.35</td>\n",
       "    </tr>\n",
       "    <tr>\n",
       "      <th>4</th>\n",
       "      <td>2019-02-01</td>\n",
       "      <td>대구 수성구</td>\n",
       "      <td>고산1동</td>\n",
       "      <td>F</td>\n",
       "      <td>40</td>\n",
       "      <td>6873.14</td>\n",
       "    </tr>\n",
       "  </tbody>\n",
       "</table>\n",
       "</div>"
      ],
      "text/plain": [
       "     STD_YMD   GU_NM HDONG_NM SEX_CD  AGE_CD  POP_CNT\n",
       "0 2019-02-01  대구 수성구     고산1동      F      20  8940.65\n",
       "1 2019-02-01  대구 수성구     고산1동      F      25  3686.51\n",
       "2 2019-02-01  대구 수성구     고산1동      F      30  3505.06\n",
       "3 2019-02-01  대구 수성구     고산1동      F      35  5378.35\n",
       "4 2019-02-01  대구 수성구     고산1동      F      40  6873.14"
      ]
     },
     "execution_count": 2,
     "metadata": {},
     "output_type": "execute_result"
    }
   ],
   "source": [
    "age = eda.flow_concat('AGE','../data/01_SKT/*.csv')\n",
    "age = eda.flow_preprocessing(age)\n",
    "age = eda.flow_melting(age)\n",
    "age['AGE_CD'] = age['VAR'].apply(lambda x: x[-3:] if x[-4] == '_' else x[-4:])\n",
    "age['SEX_CD'] = age['VAR'].str[0].map({'M':'M', 'W':'F'})\n",
    "age = age[['STD_YMD', 'GU_NM', 'HDONG_NM', 'SEX_CD', 'AGE_CD', 'POP_CNT']]\n",
    "age_dict = {x: int(x[:2])for x in sorted(age['AGE_CD'].unique())}\n",
    "age['AGE_CD'] = age['AGE_CD'].map(age_dict)\n",
    "age['AGE_CD'] = age['AGE_CD'].apply(lambda x: 20 if x < 20 else x)\n",
    "age['AGE_CD'] = age['AGE_CD'].apply(lambda x: 65 if x > 65 else x)\n",
    "age = age.groupby(['STD_YMD', 'GU_NM', 'HDONG_NM', 'SEX_CD', 'AGE_CD']) \\\n",
    "         [['POP_CNT']].sum().reset_index()\n",
    "print(age.shape)\n",
    "age.head()"
   ]
  },
  {
   "cell_type": "markdown",
   "metadata": {},
   "source": [
    "**날짜별 동별 그룹핑(성별, 나이 상관없이)**"
   ]
  },
  {
   "cell_type": "markdown",
   "metadata": {},
   "source": [
    "**시간**"
   ]
  },
  {
   "cell_type": "code",
   "execution_count": 3,
   "metadata": {
    "scrolled": false
   },
   "outputs": [
    {
     "name": "stdout",
     "output_type": "stream",
     "text": [
      "(382467, 5)\n"
     ]
    },
    {
     "data": {
      "text/html": [
       "<div>\n",
       "<style scoped>\n",
       "    .dataframe tbody tr th:only-of-type {\n",
       "        vertical-align: middle;\n",
       "    }\n",
       "\n",
       "    .dataframe tbody tr th {\n",
       "        vertical-align: top;\n",
       "    }\n",
       "\n",
       "    .dataframe thead th {\n",
       "        text-align: right;\n",
       "    }\n",
       "</style>\n",
       "<table border=\"1\" class=\"dataframe\">\n",
       "  <thead>\n",
       "    <tr style=\"text-align: right;\">\n",
       "      <th></th>\n",
       "      <th>STD_YMD</th>\n",
       "      <th>GU_NM</th>\n",
       "      <th>HDONG_NM</th>\n",
       "      <th>TM</th>\n",
       "      <th>POP_CNT</th>\n",
       "    </tr>\n",
       "  </thead>\n",
       "  <tbody>\n",
       "    <tr>\n",
       "      <th>0</th>\n",
       "      <td>2019-02-01</td>\n",
       "      <td>서울 중구</td>\n",
       "      <td>소공동</td>\n",
       "      <td>01</td>\n",
       "      <td>1022.83</td>\n",
       "    </tr>\n",
       "    <tr>\n",
       "      <th>1</th>\n",
       "      <td>2019-02-01</td>\n",
       "      <td>서울 중구</td>\n",
       "      <td>회현동</td>\n",
       "      <td>01</td>\n",
       "      <td>1117.26</td>\n",
       "    </tr>\n",
       "    <tr>\n",
       "      <th>2</th>\n",
       "      <td>2019-02-01</td>\n",
       "      <td>서울 중구</td>\n",
       "      <td>명동</td>\n",
       "      <td>01</td>\n",
       "      <td>1726.10</td>\n",
       "    </tr>\n",
       "    <tr>\n",
       "      <th>3</th>\n",
       "      <td>2019-02-01</td>\n",
       "      <td>서울 중구</td>\n",
       "      <td>필동</td>\n",
       "      <td>01</td>\n",
       "      <td>440.70</td>\n",
       "    </tr>\n",
       "    <tr>\n",
       "      <th>4</th>\n",
       "      <td>2019-02-01</td>\n",
       "      <td>서울 중구</td>\n",
       "      <td>장충동</td>\n",
       "      <td>01</td>\n",
       "      <td>447.23</td>\n",
       "    </tr>\n",
       "  </tbody>\n",
       "</table>\n",
       "</div>"
      ],
      "text/plain": [
       "     STD_YMD  GU_NM HDONG_NM  TM  POP_CNT\n",
       "0 2019-02-01  서울 중구      소공동  01  1022.83\n",
       "1 2019-02-01  서울 중구      회현동  01  1117.26\n",
       "2 2019-02-01  서울 중구       명동  01  1726.10\n",
       "3 2019-02-01  서울 중구       필동  01   440.70\n",
       "4 2019-02-01  서울 중구      장충동  01   447.23"
      ]
     },
     "execution_count": 3,
     "metadata": {},
     "output_type": "execute_result"
    }
   ],
   "source": [
    "time = eda.flow_concat('TIME','../data/01_SKT/*.csv')\n",
    "time = eda.flow_preprocessing(time)\n",
    "time = eda.flow_melting(time, var_name='TM')\n",
    "time['TM'] = time['TM'].apply(lambda x: x[-2:])\n",
    "print(time.shape)\n",
    "time.head()"
   ]
  },
  {
   "cell_type": "markdown",
   "metadata": {},
   "source": [
    "**날짜, 구, 행정동으로 그룹핑(성별, 나이, 시간대 변수 제외)**"
   ]
  },
  {
   "cell_type": "code",
   "execution_count": 4,
   "metadata": {},
   "outputs": [
    {
     "name": "stdout",
     "output_type": "stream",
     "text": [
      "(16629, 4)\n"
     ]
    },
    {
     "data": {
      "text/html": [
       "<div>\n",
       "<style scoped>\n",
       "    .dataframe tbody tr th:only-of-type {\n",
       "        vertical-align: middle;\n",
       "    }\n",
       "\n",
       "    .dataframe tbody tr th {\n",
       "        vertical-align: top;\n",
       "    }\n",
       "\n",
       "    .dataframe thead th {\n",
       "        text-align: right;\n",
       "    }\n",
       "</style>\n",
       "<table border=\"1\" class=\"dataframe\">\n",
       "  <thead>\n",
       "    <tr style=\"text-align: right;\">\n",
       "      <th></th>\n",
       "      <th>STD_YMD</th>\n",
       "      <th>GU_NM</th>\n",
       "      <th>HDONG_NM</th>\n",
       "      <th>POP_CNT</th>\n",
       "    </tr>\n",
       "  </thead>\n",
       "  <tbody>\n",
       "    <tr>\n",
       "      <th>0</th>\n",
       "      <td>2019-02-01</td>\n",
       "      <td>대구 수성구</td>\n",
       "      <td>고산1동</td>\n",
       "      <td>133361.08</td>\n",
       "    </tr>\n",
       "    <tr>\n",
       "      <th>1</th>\n",
       "      <td>2019-02-01</td>\n",
       "      <td>대구 수성구</td>\n",
       "      <td>고산2동</td>\n",
       "      <td>254912.57</td>\n",
       "    </tr>\n",
       "    <tr>\n",
       "      <th>2</th>\n",
       "      <td>2019-02-01</td>\n",
       "      <td>대구 수성구</td>\n",
       "      <td>고산3동</td>\n",
       "      <td>57764.08</td>\n",
       "    </tr>\n",
       "    <tr>\n",
       "      <th>3</th>\n",
       "      <td>2019-02-01</td>\n",
       "      <td>대구 수성구</td>\n",
       "      <td>두산동</td>\n",
       "      <td>125647.42</td>\n",
       "    </tr>\n",
       "    <tr>\n",
       "      <th>4</th>\n",
       "      <td>2019-02-01</td>\n",
       "      <td>대구 수성구</td>\n",
       "      <td>만촌1동</td>\n",
       "      <td>132277.61</td>\n",
       "    </tr>\n",
       "  </tbody>\n",
       "</table>\n",
       "</div>"
      ],
      "text/plain": [
       "     STD_YMD   GU_NM HDONG_NM    POP_CNT\n",
       "0 2019-02-01  대구 수성구     고산1동  133361.08\n",
       "1 2019-02-01  대구 수성구     고산2동  254912.57\n",
       "2 2019-02-01  대구 수성구     고산3동   57764.08\n",
       "3 2019-02-01  대구 수성구      두산동  125647.42\n",
       "4 2019-02-01  대구 수성구     만촌1동  132277.61"
      ]
     },
     "execution_count": 4,
     "metadata": {},
     "output_type": "execute_result"
    }
   ],
   "source": [
    "tr_age = age.groupby(['STD_YMD', 'GU_NM', 'HDONG_NM'])['POP_CNT'].sum().reset_index()\n",
    "print(tr_age.shape)\n",
    "tr_age.head()"
   ]
  },
  {
   "cell_type": "code",
   "execution_count": 5,
   "metadata": {},
   "outputs": [
    {
     "name": "stdout",
     "output_type": "stream",
     "text": [
      "(16629, 4)\n"
     ]
    },
    {
     "data": {
      "text/html": [
       "<div>\n",
       "<style scoped>\n",
       "    .dataframe tbody tr th:only-of-type {\n",
       "        vertical-align: middle;\n",
       "    }\n",
       "\n",
       "    .dataframe tbody tr th {\n",
       "        vertical-align: top;\n",
       "    }\n",
       "\n",
       "    .dataframe thead th {\n",
       "        text-align: right;\n",
       "    }\n",
       "</style>\n",
       "<table border=\"1\" class=\"dataframe\">\n",
       "  <thead>\n",
       "    <tr style=\"text-align: right;\">\n",
       "      <th></th>\n",
       "      <th>STD_YMD</th>\n",
       "      <th>GU_NM</th>\n",
       "      <th>HDONG_NM</th>\n",
       "      <th>POP_CNT</th>\n",
       "    </tr>\n",
       "  </thead>\n",
       "  <tbody>\n",
       "    <tr>\n",
       "      <th>0</th>\n",
       "      <td>2019-02-01</td>\n",
       "      <td>대구 수성구</td>\n",
       "      <td>고산1동</td>\n",
       "      <td>132119.98</td>\n",
       "    </tr>\n",
       "    <tr>\n",
       "      <th>1</th>\n",
       "      <td>2019-02-01</td>\n",
       "      <td>대구 수성구</td>\n",
       "      <td>고산2동</td>\n",
       "      <td>252527.81</td>\n",
       "    </tr>\n",
       "    <tr>\n",
       "      <th>2</th>\n",
       "      <td>2019-02-01</td>\n",
       "      <td>대구 수성구</td>\n",
       "      <td>고산3동</td>\n",
       "      <td>57192.22</td>\n",
       "    </tr>\n",
       "    <tr>\n",
       "      <th>3</th>\n",
       "      <td>2019-02-01</td>\n",
       "      <td>대구 수성구</td>\n",
       "      <td>두산동</td>\n",
       "      <td>123689.09</td>\n",
       "    </tr>\n",
       "    <tr>\n",
       "      <th>4</th>\n",
       "      <td>2019-02-01</td>\n",
       "      <td>대구 수성구</td>\n",
       "      <td>만촌1동</td>\n",
       "      <td>130920.70</td>\n",
       "    </tr>\n",
       "  </tbody>\n",
       "</table>\n",
       "</div>"
      ],
      "text/plain": [
       "     STD_YMD   GU_NM HDONG_NM    POP_CNT\n",
       "0 2019-02-01  대구 수성구     고산1동  132119.98\n",
       "1 2019-02-01  대구 수성구     고산2동  252527.81\n",
       "2 2019-02-01  대구 수성구     고산3동   57192.22\n",
       "3 2019-02-01  대구 수성구      두산동  123689.09\n",
       "4 2019-02-01  대구 수성구     만촌1동  130920.70"
      ]
     },
     "execution_count": 5,
     "metadata": {},
     "output_type": "execute_result"
    }
   ],
   "source": [
    "tr_time = time.groupby(['STD_YMD', 'GU_NM', 'HDONG_NM'])['POP_CNT'].sum().reset_index()\n",
    "print(tr_time.shape)\n",
    "tr_time.head()"
   ]
  },
  {
   "cell_type": "markdown",
   "metadata": {},
   "source": [
    "**두 테이블간 오차가 있으므로 더 정확한 계산을 위해 평균을 적용**"
   ]
  },
  {
   "cell_type": "code",
   "execution_count": 6,
   "metadata": {
    "scrolled": true
   },
   "outputs": [
    {
     "name": "stdout",
     "output_type": "stream",
     "text": [
      "(16629, 4)\n"
     ]
    },
    {
     "data": {
      "text/html": [
       "<div>\n",
       "<style scoped>\n",
       "    .dataframe tbody tr th:only-of-type {\n",
       "        vertical-align: middle;\n",
       "    }\n",
       "\n",
       "    .dataframe tbody tr th {\n",
       "        vertical-align: top;\n",
       "    }\n",
       "\n",
       "    .dataframe thead th {\n",
       "        text-align: right;\n",
       "    }\n",
       "</style>\n",
       "<table border=\"1\" class=\"dataframe\">\n",
       "  <thead>\n",
       "    <tr style=\"text-align: right;\">\n",
       "      <th></th>\n",
       "      <th>STD_YMD</th>\n",
       "      <th>GU_NM</th>\n",
       "      <th>HDONG_NM</th>\n",
       "      <th>POP_CNT</th>\n",
       "    </tr>\n",
       "  </thead>\n",
       "  <tbody>\n",
       "    <tr>\n",
       "      <th>0</th>\n",
       "      <td>2019-02-01</td>\n",
       "      <td>대구 수성구</td>\n",
       "      <td>고산1동</td>\n",
       "      <td>132740.530</td>\n",
       "    </tr>\n",
       "    <tr>\n",
       "      <th>1</th>\n",
       "      <td>2019-02-01</td>\n",
       "      <td>대구 수성구</td>\n",
       "      <td>고산2동</td>\n",
       "      <td>253720.190</td>\n",
       "    </tr>\n",
       "    <tr>\n",
       "      <th>2</th>\n",
       "      <td>2019-02-01</td>\n",
       "      <td>대구 수성구</td>\n",
       "      <td>고산3동</td>\n",
       "      <td>57478.150</td>\n",
       "    </tr>\n",
       "    <tr>\n",
       "      <th>3</th>\n",
       "      <td>2019-02-01</td>\n",
       "      <td>대구 수성구</td>\n",
       "      <td>두산동</td>\n",
       "      <td>124668.255</td>\n",
       "    </tr>\n",
       "    <tr>\n",
       "      <th>4</th>\n",
       "      <td>2019-02-01</td>\n",
       "      <td>대구 수성구</td>\n",
       "      <td>만촌1동</td>\n",
       "      <td>131599.155</td>\n",
       "    </tr>\n",
       "  </tbody>\n",
       "</table>\n",
       "</div>"
      ],
      "text/plain": [
       "     STD_YMD   GU_NM HDONG_NM     POP_CNT\n",
       "0 2019-02-01  대구 수성구     고산1동  132740.530\n",
       "1 2019-02-01  대구 수성구     고산2동  253720.190\n",
       "2 2019-02-01  대구 수성구     고산3동   57478.150\n",
       "3 2019-02-01  대구 수성구      두산동  124668.255\n",
       "4 2019-02-01  대구 수성구     만촌1동  131599.155"
      ]
     },
     "execution_count": 6,
     "metadata": {},
     "output_type": "execute_result"
    }
   ],
   "source": [
    "tr_flow = pd.concat([tr_age, tr_time])\n",
    "tr_flow = tr_flow.groupby(['STD_YMD', 'GU_NM', 'HDONG_NM'])['POP_CNT'] \\\n",
    "                 .mean().reset_index()\n",
    "print(tr_flow.shape)\n",
    "tr_flow.head()"
   ]
  },
  {
   "cell_type": "markdown",
   "metadata": {},
   "source": [
    "**sns데이터와 행정동을 맞추기 위해 1,2,3,...동으로 나누어진 행정동을 하나의 동으로 통합**"
   ]
  },
  {
   "cell_type": "code",
   "execution_count": 7,
   "metadata": {
    "scrolled": false
   },
   "outputs": [
    {
     "name": "stdout",
     "output_type": "stream",
     "text": [
      "(288, 4)\n"
     ]
    },
    {
     "data": {
      "text/html": [
       "<div>\n",
       "<style scoped>\n",
       "    .dataframe tbody tr th:only-of-type {\n",
       "        vertical-align: middle;\n",
       "    }\n",
       "\n",
       "    .dataframe tbody tr th {\n",
       "        vertical-align: top;\n",
       "    }\n",
       "\n",
       "    .dataframe thead th {\n",
       "        text-align: right;\n",
       "    }\n",
       "</style>\n",
       "<table border=\"1\" class=\"dataframe\">\n",
       "  <thead>\n",
       "    <tr style=\"text-align: right;\">\n",
       "      <th></th>\n",
       "      <th>STD_YMD</th>\n",
       "      <th>GU_NM</th>\n",
       "      <th>HDONG_NM</th>\n",
       "      <th>POP_CNT</th>\n",
       "    </tr>\n",
       "  </thead>\n",
       "  <tbody>\n",
       "    <tr>\n",
       "      <th>0</th>\n",
       "      <td>2019-02-01</td>\n",
       "      <td>대구 수성구</td>\n",
       "      <td>고산동</td>\n",
       "      <td>11469906.22</td>\n",
       "    </tr>\n",
       "    <tr>\n",
       "      <th>1</th>\n",
       "      <td>2019-02-01</td>\n",
       "      <td>대구 수성구</td>\n",
       "      <td>두산동</td>\n",
       "      <td>3123238.44</td>\n",
       "    </tr>\n",
       "    <tr>\n",
       "      <th>2</th>\n",
       "      <td>2019-02-01</td>\n",
       "      <td>대구 수성구</td>\n",
       "      <td>만촌동</td>\n",
       "      <td>6114767.56</td>\n",
       "    </tr>\n",
       "    <tr>\n",
       "      <th>3</th>\n",
       "      <td>2019-02-01</td>\n",
       "      <td>대구 수성구</td>\n",
       "      <td>범물동</td>\n",
       "      <td>1703146.98</td>\n",
       "    </tr>\n",
       "    <tr>\n",
       "      <th>4</th>\n",
       "      <td>2019-02-01</td>\n",
       "      <td>대구 수성구</td>\n",
       "      <td>범어동</td>\n",
       "      <td>7923682.43</td>\n",
       "    </tr>\n",
       "  </tbody>\n",
       "</table>\n",
       "</div>"
      ],
      "text/plain": [
       "     STD_YMD   GU_NM HDONG_NM      POP_CNT\n",
       "0 2019-02-01  대구 수성구      고산동  11469906.22\n",
       "1 2019-02-01  대구 수성구      두산동   3123238.44\n",
       "2 2019-02-01  대구 수성구      만촌동   6114767.56\n",
       "3 2019-02-01  대구 수성구      범물동   1703146.98\n",
       "4 2019-02-01  대구 수성구      범어동   7923682.43"
      ]
     },
     "execution_count": 7,
     "metadata": {},
     "output_type": "execute_result"
    }
   ],
   "source": [
    "hd_flow = eda.hdong_integrated(tr_flow)\n",
    "print(hd_flow.shape)\n",
    "hd_flow.head()"
   ]
  },
  {
   "cell_type": "markdown",
   "metadata": {},
   "source": [
    "**감염병데이터와 결합을 위해 구 단위로 그룹핑**"
   ]
  },
  {
   "cell_type": "code",
   "execution_count": 8,
   "metadata": {},
   "outputs": [
    {
     "name": "stdout",
     "output_type": "stream",
     "text": [
      "(964, 3)\n"
     ]
    },
    {
     "data": {
      "text/html": [
       "<div>\n",
       "<style scoped>\n",
       "    .dataframe tbody tr th:only-of-type {\n",
       "        vertical-align: middle;\n",
       "    }\n",
       "\n",
       "    .dataframe tbody tr th {\n",
       "        vertical-align: top;\n",
       "    }\n",
       "\n",
       "    .dataframe thead th {\n",
       "        text-align: right;\n",
       "    }\n",
       "</style>\n",
       "<table border=\"1\" class=\"dataframe\">\n",
       "  <thead>\n",
       "    <tr style=\"text-align: right;\">\n",
       "      <th></th>\n",
       "      <th>STD_YMD</th>\n",
       "      <th>GU_NM</th>\n",
       "      <th>POP_CNT</th>\n",
       "    </tr>\n",
       "  </thead>\n",
       "  <tbody>\n",
       "    <tr>\n",
       "      <th>0</th>\n",
       "      <td>2019-02-01</td>\n",
       "      <td>대구 수성구</td>\n",
       "      <td>1889737.440</td>\n",
       "    </tr>\n",
       "    <tr>\n",
       "      <th>1</th>\n",
       "      <td>2019-02-01</td>\n",
       "      <td>대구 중구</td>\n",
       "      <td>863156.130</td>\n",
       "    </tr>\n",
       "    <tr>\n",
       "      <th>2</th>\n",
       "      <td>2019-02-01</td>\n",
       "      <td>서울 노원구</td>\n",
       "      <td>1695635.500</td>\n",
       "    </tr>\n",
       "    <tr>\n",
       "      <th>3</th>\n",
       "      <td>2019-02-01</td>\n",
       "      <td>서울 중구</td>\n",
       "      <td>2040498.255</td>\n",
       "    </tr>\n",
       "    <tr>\n",
       "      <th>4</th>\n",
       "      <td>2019-02-02</td>\n",
       "      <td>대구 수성구</td>\n",
       "      <td>1797497.145</td>\n",
       "    </tr>\n",
       "  </tbody>\n",
       "</table>\n",
       "</div>"
      ],
      "text/plain": [
       "     STD_YMD   GU_NM      POP_CNT\n",
       "0 2019-02-01  대구 수성구  1889737.440\n",
       "1 2019-02-01   대구 중구   863156.130\n",
       "2 2019-02-01  서울 노원구  1695635.500\n",
       "3 2019-02-01   서울 중구  2040498.255\n",
       "4 2019-02-02  대구 수성구  1797497.145"
      ]
     },
     "execution_count": 8,
     "metadata": {},
     "output_type": "execute_result"
    }
   ],
   "source": [
    "ep_flow = tr_flow.groupby(['STD_YMD', 'GU_NM'])['POP_CNT'].sum().reset_index()\n",
    "print(ep_flow.shape)\n",
    "ep_flow.head()"
   ]
  },
  {
   "cell_type": "markdown",
   "metadata": {},
   "source": [
    "## 카드매출"
   ]
  },
  {
   "cell_type": "markdown",
   "metadata": {},
   "source": [
    "**내국인**"
   ]
  },
  {
   "cell_type": "code",
   "execution_count": 9,
   "metadata": {
    "scrolled": false
   },
   "outputs": [
    {
     "name": "stdout",
     "output_type": "stream",
     "text": [
      "(331976, 7)\n"
     ]
    },
    {
     "data": {
      "text/html": [
       "<div>\n",
       "<style scoped>\n",
       "    .dataframe tbody tr th:only-of-type {\n",
       "        vertical-align: middle;\n",
       "    }\n",
       "\n",
       "    .dataframe tbody tr th {\n",
       "        vertical-align: top;\n",
       "    }\n",
       "\n",
       "    .dataframe thead th {\n",
       "        text-align: right;\n",
       "    }\n",
       "</style>\n",
       "<table border=\"1\" class=\"dataframe\">\n",
       "  <thead>\n",
       "    <tr style=\"text-align: right;\">\n",
       "      <th></th>\n",
       "      <th>STD_YMD</th>\n",
       "      <th>GU_NM</th>\n",
       "      <th>HDONG_NM</th>\n",
       "      <th>SEX_CD</th>\n",
       "      <th>AGE_CD</th>\n",
       "      <th>USE_CNT</th>\n",
       "      <th>USE_AMT</th>\n",
       "    </tr>\n",
       "  </thead>\n",
       "  <tbody>\n",
       "    <tr>\n",
       "      <th>0</th>\n",
       "      <td>2019-02-01</td>\n",
       "      <td>대구 수성구</td>\n",
       "      <td>고산1동</td>\n",
       "      <td>F</td>\n",
       "      <td>20</td>\n",
       "      <td>634</td>\n",
       "      <td>8206</td>\n",
       "    </tr>\n",
       "    <tr>\n",
       "      <th>1</th>\n",
       "      <td>2019-02-01</td>\n",
       "      <td>대구 수성구</td>\n",
       "      <td>고산1동</td>\n",
       "      <td>F</td>\n",
       "      <td>25</td>\n",
       "      <td>680</td>\n",
       "      <td>11416</td>\n",
       "    </tr>\n",
       "    <tr>\n",
       "      <th>2</th>\n",
       "      <td>2019-02-01</td>\n",
       "      <td>대구 수성구</td>\n",
       "      <td>고산1동</td>\n",
       "      <td>F</td>\n",
       "      <td>30</td>\n",
       "      <td>502</td>\n",
       "      <td>10644</td>\n",
       "    </tr>\n",
       "    <tr>\n",
       "      <th>3</th>\n",
       "      <td>2019-02-01</td>\n",
       "      <td>대구 수성구</td>\n",
       "      <td>고산1동</td>\n",
       "      <td>F</td>\n",
       "      <td>35</td>\n",
       "      <td>691</td>\n",
       "      <td>15472</td>\n",
       "    </tr>\n",
       "    <tr>\n",
       "      <th>4</th>\n",
       "      <td>2019-02-01</td>\n",
       "      <td>대구 수성구</td>\n",
       "      <td>고산1동</td>\n",
       "      <td>F</td>\n",
       "      <td>40</td>\n",
       "      <td>983</td>\n",
       "      <td>23233</td>\n",
       "    </tr>\n",
       "  </tbody>\n",
       "</table>\n",
       "</div>"
      ],
      "text/plain": [
       "     STD_YMD   GU_NM HDONG_NM SEX_CD  AGE_CD  USE_CNT  USE_AMT\n",
       "0 2019-02-01  대구 수성구     고산1동      F      20      634     8206\n",
       "1 2019-02-01  대구 수성구     고산1동      F      25      680    11416\n",
       "2 2019-02-01  대구 수성구     고산1동      F      30      502    10644\n",
       "3 2019-02-01  대구 수성구     고산1동      F      35      691    15472\n",
       "4 2019-02-01  대구 수성구     고산1동      F      40      983    23233"
      ]
     },
     "execution_count": 9,
     "metadata": {},
     "output_type": "execute_result"
    }
   ],
   "source": [
    "resid = pd.read_csv('../data/02_Shinhan_Card/shinhan_dataset(내국인).txt', sep='\\t')\n",
    "resid = eda.card_preprocessing(resid)\n",
    "resid.rename(columns={'STD_DD':'STD_YMD', 'DONG_NM':'HDONG_NM'}, inplace=True)\n",
    "resid = resid.groupby(['STD_YMD', 'GU_NM', 'HDONG_NM', 'SEX_CD', 'AGE_CD']) \\\n",
    "             [['USE_CNT', 'USE_AMT']].sum().dropna().reset_index()\n",
    "resid['USE_CNT'] = resid['USE_CNT'].astype('int')\n",
    "resid['USE_AMT'] = resid['USE_AMT'].astype('int')\n",
    "print(resid.shape)\n",
    "resid.head()"
   ]
  },
  {
   "cell_type": "markdown",
   "metadata": {},
   "source": [
    "**외국인**"
   ]
  },
  {
   "cell_type": "code",
   "execution_count": 10,
   "metadata": {
    "scrolled": false
   },
   "outputs": [
    {
     "name": "stdout",
     "output_type": "stream",
     "text": [
      "(238829, 7)\n"
     ]
    },
    {
     "data": {
      "text/html": [
       "<div>\n",
       "<style scoped>\n",
       "    .dataframe tbody tr th:only-of-type {\n",
       "        vertical-align: middle;\n",
       "    }\n",
       "\n",
       "    .dataframe tbody tr th {\n",
       "        vertical-align: top;\n",
       "    }\n",
       "\n",
       "    .dataframe thead th {\n",
       "        text-align: right;\n",
       "    }\n",
       "</style>\n",
       "<table border=\"1\" class=\"dataframe\">\n",
       "  <thead>\n",
       "    <tr style=\"text-align: right;\">\n",
       "      <th></th>\n",
       "      <th>STD_YMD</th>\n",
       "      <th>GU_NM</th>\n",
       "      <th>HDONG_NM</th>\n",
       "      <th>UP_NM</th>\n",
       "      <th>COUNTRY_NM</th>\n",
       "      <th>USE_CNT</th>\n",
       "      <th>USE_AMT</th>\n",
       "    </tr>\n",
       "  </thead>\n",
       "  <tbody>\n",
       "    <tr>\n",
       "      <th>0</th>\n",
       "      <td>2019-02-04</td>\n",
       "      <td>대구 수성구</td>\n",
       "      <td>범어1동</td>\n",
       "      <td>음료식품</td>\n",
       "      <td>대만</td>\n",
       "      <td>2</td>\n",
       "      <td>30</td>\n",
       "    </tr>\n",
       "    <tr>\n",
       "      <th>1</th>\n",
       "      <td>2019-02-13</td>\n",
       "      <td>대구 수성구</td>\n",
       "      <td>범어1동</td>\n",
       "      <td>유통업</td>\n",
       "      <td>대만</td>\n",
       "      <td>2</td>\n",
       "      <td>32</td>\n",
       "    </tr>\n",
       "    <tr>\n",
       "      <th>2</th>\n",
       "      <td>2019-04-16</td>\n",
       "      <td>대구 수성구</td>\n",
       "      <td>범어1동</td>\n",
       "      <td>유통업</td>\n",
       "      <td>대만</td>\n",
       "      <td>2</td>\n",
       "      <td>16</td>\n",
       "    </tr>\n",
       "    <tr>\n",
       "      <th>3</th>\n",
       "      <td>2019-04-19</td>\n",
       "      <td>대구 수성구</td>\n",
       "      <td>범어1동</td>\n",
       "      <td>의복</td>\n",
       "      <td>대만</td>\n",
       "      <td>3</td>\n",
       "      <td>610</td>\n",
       "    </tr>\n",
       "    <tr>\n",
       "      <th>4</th>\n",
       "      <td>2019-03-08</td>\n",
       "      <td>대구 수성구</td>\n",
       "      <td>범어1동</td>\n",
       "      <td>숙박</td>\n",
       "      <td>대만</td>\n",
       "      <td>7</td>\n",
       "      <td>629</td>\n",
       "    </tr>\n",
       "  </tbody>\n",
       "</table>\n",
       "</div>"
      ],
      "text/plain": [
       "     STD_YMD   GU_NM HDONG_NM UP_NM COUNTRY_NM  USE_CNT  USE_AMT\n",
       "0 2019-02-04  대구 수성구     범어1동  음료식품         대만        2       30\n",
       "1 2019-02-13  대구 수성구     범어1동   유통업         대만        2       32\n",
       "2 2019-04-16  대구 수성구     범어1동   유통업         대만        2       16\n",
       "3 2019-04-19  대구 수성구     범어1동    의복         대만        3      610\n",
       "4 2019-03-08  대구 수성구     범어1동    숙박         대만        7      629"
      ]
     },
     "execution_count": 10,
     "metadata": {},
     "output_type": "execute_result"
    }
   ],
   "source": [
    "fore = pd.read_csv('../data/02_Shinhan_Card/shinhan_dataset(외국인).txt', sep='\\t',\n",
    "                   encoding='cp949')\n",
    "fore = eda.card_preprocessing(fore)\n",
    "fore.rename(columns={'STD_DD':'STD_YMD', 'DONG_NM':'HDONG_NM'}, inplace=True)\n",
    "fore[fore['USE_AMT'].isnull() & fore['USE_CNT'] == 1] = \\\n",
    "fore[fore['USE_AMT'].isnull() & fore['USE_CNT'] == 1].fillna(58)\n",
    "fore[fore['USE_AMT'].isnull()] = fore[fore['USE_AMT'].isnull()].fillna(365)\n",
    "fore['USE_AMT'] = fore['USE_AMT'].astype('int')\n",
    "print(fore.shape)\n",
    "fore.head()"
   ]
  },
  {
   "cell_type": "markdown",
   "metadata": {},
   "source": [
    "**카드매출 종합**"
   ]
  },
  {
   "cell_type": "code",
   "execution_count": 11,
   "metadata": {},
   "outputs": [],
   "source": [
    "tr_resid = resid.groupby(['STD_YMD', 'GU_NM', 'HDONG_NM'])[['USE_CNT', 'USE_AMT']] \\\n",
    "         .sum().reset_index()\n",
    "tr_fore = fore.groupby(['STD_YMD', 'GU_NM', 'HDONG_NM'])[['USE_CNT', 'USE_AMT']] \\\n",
    "        .sum().reset_index()"
   ]
  },
  {
   "cell_type": "code",
   "execution_count": 12,
   "metadata": {
    "scrolled": true
   },
   "outputs": [
    {
     "name": "stdout",
     "output_type": "stream",
     "text": [
      "(16629, 5)\n"
     ]
    },
    {
     "data": {
      "text/html": [
       "<div>\n",
       "<style scoped>\n",
       "    .dataframe tbody tr th:only-of-type {\n",
       "        vertical-align: middle;\n",
       "    }\n",
       "\n",
       "    .dataframe tbody tr th {\n",
       "        vertical-align: top;\n",
       "    }\n",
       "\n",
       "    .dataframe thead th {\n",
       "        text-align: right;\n",
       "    }\n",
       "</style>\n",
       "<table border=\"1\" class=\"dataframe\">\n",
       "  <thead>\n",
       "    <tr style=\"text-align: right;\">\n",
       "      <th></th>\n",
       "      <th>STD_YMD</th>\n",
       "      <th>GU_NM</th>\n",
       "      <th>HDONG_NM</th>\n",
       "      <th>USE_CNT</th>\n",
       "      <th>USE_AMT</th>\n",
       "    </tr>\n",
       "  </thead>\n",
       "  <tbody>\n",
       "    <tr>\n",
       "      <th>0</th>\n",
       "      <td>2019-02-01</td>\n",
       "      <td>대구 수성구</td>\n",
       "      <td>고산1동</td>\n",
       "      <td>15389</td>\n",
       "      <td>412037</td>\n",
       "    </tr>\n",
       "    <tr>\n",
       "      <th>1</th>\n",
       "      <td>2019-02-01</td>\n",
       "      <td>대구 수성구</td>\n",
       "      <td>고산2동</td>\n",
       "      <td>11548</td>\n",
       "      <td>387103</td>\n",
       "    </tr>\n",
       "    <tr>\n",
       "      <th>2</th>\n",
       "      <td>2019-02-01</td>\n",
       "      <td>대구 수성구</td>\n",
       "      <td>고산3동</td>\n",
       "      <td>12774</td>\n",
       "      <td>336823</td>\n",
       "    </tr>\n",
       "    <tr>\n",
       "      <th>3</th>\n",
       "      <td>2019-02-01</td>\n",
       "      <td>대구 수성구</td>\n",
       "      <td>두산동</td>\n",
       "      <td>15480</td>\n",
       "      <td>683605</td>\n",
       "    </tr>\n",
       "    <tr>\n",
       "      <th>4</th>\n",
       "      <td>2019-02-01</td>\n",
       "      <td>대구 수성구</td>\n",
       "      <td>만촌1동</td>\n",
       "      <td>12039</td>\n",
       "      <td>544981</td>\n",
       "    </tr>\n",
       "  </tbody>\n",
       "</table>\n",
       "</div>"
      ],
      "text/plain": [
       "     STD_YMD   GU_NM HDONG_NM  USE_CNT  USE_AMT\n",
       "0 2019-02-01  대구 수성구     고산1동    15389   412037\n",
       "1 2019-02-01  대구 수성구     고산2동    11548   387103\n",
       "2 2019-02-01  대구 수성구     고산3동    12774   336823\n",
       "3 2019-02-01  대구 수성구      두산동    15480   683605\n",
       "4 2019-02-01  대구 수성구     만촌1동    12039   544981"
      ]
     },
     "execution_count": 12,
     "metadata": {},
     "output_type": "execute_result"
    }
   ],
   "source": [
    "sales = pd.concat([tr_resid, tr_fore]).groupby(['STD_YMD', 'GU_NM', 'HDONG_NM']) \\\n",
    "          [['USE_CNT', 'USE_AMT']].sum().reset_index()\n",
    "print(sales.shape)\n",
    "sales.head()"
   ]
  },
  {
   "cell_type": "markdown",
   "metadata": {},
   "source": [
    "## SNS"
   ]
  },
  {
   "cell_type": "code",
   "execution_count": 13,
   "metadata": {
    "scrolled": false
   },
   "outputs": [],
   "source": [
    "network = pd.read_csv('../data/03_Wisenut/wisenut_dataset.csv', encoding='utf-8',\n",
    "                      sep='\\x07')\n",
    "network = eda.initial_preprocessing(network)"
   ]
  },
  {
   "cell_type": "markdown",
   "metadata": {},
   "source": [
    "**채널**"
   ]
  },
  {
   "cell_type": "code",
   "execution_count": 14,
   "metadata": {},
   "outputs": [
    {
     "name": "stdout",
     "output_type": "stream",
     "text": [
      "(840, 5)\n"
     ]
    },
    {
     "data": {
      "text/html": [
       "<div>\n",
       "<style scoped>\n",
       "    .dataframe tbody tr th:only-of-type {\n",
       "        vertical-align: middle;\n",
       "    }\n",
       "\n",
       "    .dataframe tbody tr th {\n",
       "        vertical-align: top;\n",
       "    }\n",
       "\n",
       "    .dataframe thead th {\n",
       "        text-align: right;\n",
       "    }\n",
       "</style>\n",
       "<table border=\"1\" class=\"dataframe\">\n",
       "  <thead>\n",
       "    <tr style=\"text-align: right;\">\n",
       "      <th></th>\n",
       "      <th>STD_YMD</th>\n",
       "      <th>GU_NM</th>\n",
       "      <th>HDONG_NM</th>\n",
       "      <th>CHNL_NM</th>\n",
       "      <th>CNT</th>\n",
       "    </tr>\n",
       "  </thead>\n",
       "  <tbody>\n",
       "    <tr>\n",
       "      <th>0</th>\n",
       "      <td>2019-02-01</td>\n",
       "      <td>서울 중구</td>\n",
       "      <td>소공동</td>\n",
       "      <td>뉴스</td>\n",
       "      <td>4</td>\n",
       "    </tr>\n",
       "    <tr>\n",
       "      <th>1</th>\n",
       "      <td>2019-02-01</td>\n",
       "      <td>서울 중구</td>\n",
       "      <td>회현동</td>\n",
       "      <td>뉴스</td>\n",
       "      <td>4</td>\n",
       "    </tr>\n",
       "    <tr>\n",
       "      <th>2</th>\n",
       "      <td>2019-02-01</td>\n",
       "      <td>서울 중구</td>\n",
       "      <td>명동</td>\n",
       "      <td>뉴스</td>\n",
       "      <td>6</td>\n",
       "    </tr>\n",
       "    <tr>\n",
       "      <th>3</th>\n",
       "      <td>2019-02-01</td>\n",
       "      <td>서울 중구</td>\n",
       "      <td>필동</td>\n",
       "      <td>뉴스</td>\n",
       "      <td>0</td>\n",
       "    </tr>\n",
       "    <tr>\n",
       "      <th>4</th>\n",
       "      <td>2019-02-01</td>\n",
       "      <td>서울 중구</td>\n",
       "      <td>장충동</td>\n",
       "      <td>뉴스</td>\n",
       "      <td>13</td>\n",
       "    </tr>\n",
       "  </tbody>\n",
       "</table>\n",
       "</div>"
      ],
      "text/plain": [
       "     STD_YMD  GU_NM HDONG_NM CHNL_NM  CNT\n",
       "0 2019-02-01  서울 중구      소공동      뉴스    4\n",
       "1 2019-02-01  서울 중구      회현동      뉴스    4\n",
       "2 2019-02-01  서울 중구       명동      뉴스    6\n",
       "3 2019-02-01  서울 중구       필동      뉴스    0\n",
       "4 2019-02-01  서울 중구      장충동      뉴스   13"
      ]
     },
     "execution_count": 14,
     "metadata": {},
     "output_type": "execute_result"
    }
   ],
   "source": [
    "channel = eda.sns_melting(network, ['NEWS', 'BLOG', 'CAFE'])\n",
    "channel = eda.sns_preprocessing(channel,\n",
    "                                {'NEWS':'뉴스', 'BLOG':'블로그', 'CAFE':'카페'},\n",
    "                                colname='CHNL_NM')\n",
    "print(channel.shape)\n",
    "channel.head()"
   ]
  },
  {
   "cell_type": "markdown",
   "metadata": {},
   "source": [
    "**화제어**"
   ]
  },
  {
   "cell_type": "code",
   "execution_count": 15,
   "metadata": {},
   "outputs": [
    {
     "name": "stdout",
     "output_type": "stream",
     "text": [
      "(280, 4)\n"
     ]
    },
    {
     "data": {
      "text/html": [
       "<div>\n",
       "<style scoped>\n",
       "    .dataframe tbody tr th:only-of-type {\n",
       "        vertical-align: middle;\n",
       "    }\n",
       "\n",
       "    .dataframe tbody tr th {\n",
       "        vertical-align: top;\n",
       "    }\n",
       "\n",
       "    .dataframe thead th {\n",
       "        text-align: right;\n",
       "    }\n",
       "</style>\n",
       "<table border=\"1\" class=\"dataframe\">\n",
       "  <thead>\n",
       "    <tr style=\"text-align: right;\">\n",
       "      <th></th>\n",
       "      <th>STD_YMD</th>\n",
       "      <th>GU_NM</th>\n",
       "      <th>HDONG_NM</th>\n",
       "      <th>TOPIC</th>\n",
       "    </tr>\n",
       "  </thead>\n",
       "  <tbody>\n",
       "    <tr>\n",
       "      <th>0</th>\n",
       "      <td>2019-02-01</td>\n",
       "      <td>서울 중구</td>\n",
       "      <td>소공동</td>\n",
       "      <td>장관,기념식,창간,롯데호텔,뷔페</td>\n",
       "    </tr>\n",
       "    <tr>\n",
       "      <th>1</th>\n",
       "      <td>2019-02-01</td>\n",
       "      <td>서울 중구</td>\n",
       "      <td>회현동</td>\n",
       "      <td>회현동,서울역,도시재생,윤동주,일제강점기</td>\n",
       "    </tr>\n",
       "    <tr>\n",
       "      <th>2</th>\n",
       "      <td>2019-02-01</td>\n",
       "      <td>서울 중구</td>\n",
       "      <td>명동</td>\n",
       "      <td>생활유산,열쇠고리,신세계백화점,리뉴얼,관광객</td>\n",
       "    </tr>\n",
       "    <tr>\n",
       "      <th>3</th>\n",
       "      <td>2019-02-01</td>\n",
       "      <td>서울 중구</td>\n",
       "      <td>필동</td>\n",
       "      <td>저작권,영남상생포럼,자유한국장,지적,그랜드호텔</td>\n",
       "    </tr>\n",
       "    <tr>\n",
       "      <th>4</th>\n",
       "      <td>2019-02-01</td>\n",
       "      <td>서울 중구</td>\n",
       "      <td>장충동</td>\n",
       "      <td>빵집,태극당,신라호텔,세관,감사원</td>\n",
       "    </tr>\n",
       "  </tbody>\n",
       "</table>\n",
       "</div>"
      ],
      "text/plain": [
       "     STD_YMD  GU_NM HDONG_NM                      TOPIC\n",
       "0 2019-02-01  서울 중구      소공동          장관,기념식,창간,롯데호텔,뷔페\n",
       "1 2019-02-01  서울 중구      회현동     회현동,서울역,도시재생,윤동주,일제강점기\n",
       "2 2019-02-01  서울 중구       명동   생활유산,열쇠고리,신세계백화점,리뉴얼,관광객\n",
       "3 2019-02-01  서울 중구       필동  저작권,영남상생포럼,자유한국장,지적,그랜드호텔\n",
       "4 2019-02-01  서울 중구      장충동         빵집,태극당,신라호텔,세관,감사원"
      ]
     },
     "execution_count": 15,
     "metadata": {},
     "output_type": "execute_result"
    }
   ],
   "source": [
    "topic = eda.sns_melting(network, 'TOPIC', value_name='TOPIC')\n",
    "topic = eda.sns_preprocessing(topic, value_name='TOPIC')\n",
    "print(topic.shape)\n",
    "topic.head()"
   ]
  },
  {
   "cell_type": "markdown",
   "metadata": {},
   "source": [
    "**게시물**"
   ]
  },
  {
   "cell_type": "code",
   "execution_count": 16,
   "metadata": {},
   "outputs": [
    {
     "name": "stdout",
     "output_type": "stream",
     "text": [
      "(3360, 5)\n"
     ]
    },
    {
     "data": {
      "text/html": [
       "<div>\n",
       "<style scoped>\n",
       "    .dataframe tbody tr th:only-of-type {\n",
       "        vertical-align: middle;\n",
       "    }\n",
       "\n",
       "    .dataframe tbody tr th {\n",
       "        vertical-align: top;\n",
       "    }\n",
       "\n",
       "    .dataframe thead th {\n",
       "        text-align: right;\n",
       "    }\n",
       "</style>\n",
       "<table border=\"1\" class=\"dataframe\">\n",
       "  <thead>\n",
       "    <tr style=\"text-align: right;\">\n",
       "      <th></th>\n",
       "      <th>STD_YMD</th>\n",
       "      <th>GU_NM</th>\n",
       "      <th>HDONG_NM</th>\n",
       "      <th>UP_NM</th>\n",
       "      <th>CNT</th>\n",
       "    </tr>\n",
       "  </thead>\n",
       "  <tbody>\n",
       "    <tr>\n",
       "      <th>0</th>\n",
       "      <td>2019-02-01</td>\n",
       "      <td>서울 중구</td>\n",
       "      <td>소공동</td>\n",
       "      <td>숙박</td>\n",
       "      <td>5</td>\n",
       "    </tr>\n",
       "    <tr>\n",
       "      <th>1</th>\n",
       "      <td>2019-02-01</td>\n",
       "      <td>서울 중구</td>\n",
       "      <td>회현동</td>\n",
       "      <td>숙박</td>\n",
       "      <td>13</td>\n",
       "    </tr>\n",
       "    <tr>\n",
       "      <th>2</th>\n",
       "      <td>2019-02-01</td>\n",
       "      <td>서울 중구</td>\n",
       "      <td>명동</td>\n",
       "      <td>숙박</td>\n",
       "      <td>106</td>\n",
       "    </tr>\n",
       "    <tr>\n",
       "      <th>3</th>\n",
       "      <td>2019-02-01</td>\n",
       "      <td>서울 중구</td>\n",
       "      <td>필동</td>\n",
       "      <td>숙박</td>\n",
       "      <td>32</td>\n",
       "    </tr>\n",
       "    <tr>\n",
       "      <th>4</th>\n",
       "      <td>2019-02-01</td>\n",
       "      <td>서울 중구</td>\n",
       "      <td>장충동</td>\n",
       "      <td>숙박</td>\n",
       "      <td>29</td>\n",
       "    </tr>\n",
       "  </tbody>\n",
       "</table>\n",
       "</div>"
      ],
      "text/plain": [
       "     STD_YMD  GU_NM HDONG_NM UP_NM  CNT\n",
       "0 2019-02-01  서울 중구      소공동    숙박    5\n",
       "1 2019-02-01  서울 중구      회현동    숙박   13\n",
       "2 2019-02-01  서울 중구       명동    숙박  106\n",
       "3 2019-02-01  서울 중구       필동    숙박   32\n",
       "4 2019-02-01  서울 중구      장충동    숙박   29"
      ]
     },
     "execution_count": 16,
     "metadata": {},
     "output_type": "execute_result"
    }
   ],
   "source": [
    "post = eda.sns_melting(network, ['POSITIVE', 'NEGATIVE'])\n",
    "post = eda.sns_preprocessing(post,\n",
    "                             {'UP1':'숙박', 'UP2':'레저업소', 'UP3':'문화취미',\n",
    "                              'UP4':'의료기관', 'UP5':'보건위생', 'UP6':'요식업소'},\n",
    "                             colname='UP_NM')\n",
    "print(post.shape)\n",
    "post.head()"
   ]
  },
  {
   "cell_type": "markdown",
   "metadata": {},
   "source": [
    "## 유통"
   ]
  },
  {
   "cell_type": "code",
   "execution_count": 17,
   "metadata": {
    "scrolled": false
   },
   "outputs": [
    {
     "name": "stdout",
     "output_type": "stream",
     "text": [
      "(14460, 4)\n"
     ]
    },
    {
     "data": {
      "text/html": [
       "<div>\n",
       "<style scoped>\n",
       "    .dataframe tbody tr th:only-of-type {\n",
       "        vertical-align: middle;\n",
       "    }\n",
       "\n",
       "    .dataframe tbody tr th {\n",
       "        vertical-align: top;\n",
       "    }\n",
       "\n",
       "    .dataframe thead th {\n",
       "        text-align: right;\n",
       "    }\n",
       "</style>\n",
       "<table border=\"1\" class=\"dataframe\">\n",
       "  <thead>\n",
       "    <tr style=\"text-align: right;\">\n",
       "      <th></th>\n",
       "      <th>STD_YMD</th>\n",
       "      <th>GU_NM</th>\n",
       "      <th>HDONG_NM</th>\n",
       "      <th>AMT_IND</th>\n",
       "    </tr>\n",
       "  </thead>\n",
       "  <tbody>\n",
       "    <tr>\n",
       "      <th>0</th>\n",
       "      <td>2019-02-01</td>\n",
       "      <td>대구 수성구</td>\n",
       "      <td>고산1동</td>\n",
       "      <td>1.064336</td>\n",
       "    </tr>\n",
       "    <tr>\n",
       "      <th>1</th>\n",
       "      <td>2019-02-01</td>\n",
       "      <td>대구 수성구</td>\n",
       "      <td>고산2동</td>\n",
       "      <td>1.076418</td>\n",
       "    </tr>\n",
       "    <tr>\n",
       "      <th>2</th>\n",
       "      <td>2019-02-01</td>\n",
       "      <td>대구 수성구</td>\n",
       "      <td>고산3동</td>\n",
       "      <td>0.856071</td>\n",
       "    </tr>\n",
       "    <tr>\n",
       "      <th>3</th>\n",
       "      <td>2019-02-01</td>\n",
       "      <td>대구 수성구</td>\n",
       "      <td>두산동</td>\n",
       "      <td>0.724868</td>\n",
       "    </tr>\n",
       "    <tr>\n",
       "      <th>4</th>\n",
       "      <td>2019-02-01</td>\n",
       "      <td>대구 수성구</td>\n",
       "      <td>만촌1동</td>\n",
       "      <td>1.155728</td>\n",
       "    </tr>\n",
       "  </tbody>\n",
       "</table>\n",
       "</div>"
      ],
      "text/plain": [
       "     STD_YMD   GU_NM HDONG_NM   AMT_IND\n",
       "0 2019-02-01  대구 수성구     고산1동  1.064336\n",
       "1 2019-02-01  대구 수성구     고산2동  1.076418\n",
       "2 2019-02-01  대구 수성구     고산3동  0.856071\n",
       "3 2019-02-01  대구 수성구      두산동  0.724868\n",
       "4 2019-02-01  대구 수성구     만촌1동  1.155728"
      ]
     },
     "execution_count": 17,
     "metadata": {},
     "output_type": "execute_result"
    }
   ],
   "source": [
    "logistics = pd.read_excel('../data/04_GS_Retail/gs_dataset.xlsx',\n",
    "                          sheet_name='TB_DD_STR_PURCH_CLS',\n",
    "                          parse_dates=['OPER_DT'])\n",
    "logistics['BOR'] = logistics['PVN'].str[:2] + ' ' + logistics['BOR']\n",
    "logistics.rename(columns={'OPER_DT':'STD_YMD', 'BOR':'GU_NM', 'ADMD':'HDONG_NM'},\n",
    "                 inplace=True)\n",
    "index = logistics[['STD_YMD', 'GU_NM', 'HDONG_NM', 'AMT_IND']]\n",
    "print(index.shape)\n",
    "index.head()"
   ]
  },
  {
   "cell_type": "code",
   "execution_count": 19,
   "metadata": {},
   "outputs": [],
   "source": [
    "index = index.assign(DAW=index['STD_YMD'].apply(lambda x:x.day_name()))"
   ]
  },
  {
   "cell_type": "code",
   "execution_count": 20,
   "metadata": {},
   "outputs": [],
   "source": [
    "index = index.set_index('STD_YMD')"
   ]
  },
  {
   "cell_type": "code",
   "execution_count": 21,
   "metadata": {},
   "outputs": [],
   "source": [
    "total = index.iloc[index.index != '2020-02-29'][['AMT_IND', 'DAW']]"
   ]
  },
  {
   "cell_type": "code",
   "execution_count": 28,
   "metadata": {},
   "outputs": [],
   "source": [
    "last_mon = total.loc[:'2019-05-31'].query('DAW == \"Monday\"')['AMT_IND']\n",
    "this_mon = total.loc['2020-02-01':].query('DAW == \"Monday\"')['AMT_IND']\n",
    "this_mon.index = (this_mon.index - pd.DateOffset(years=1))\n",
    "\n",
    "last_tue = total.loc[:'2019-05-31'].query('DAW == \"Tuesday\"')['AMT_IND']\n",
    "this_tue = total.loc['2020-02-01':].query('DAW == \"Tuesday\"')['AMT_IND']\n",
    "this_tue.index = (this_tue.index - pd.DateOffset(years=1))\n",
    "\n",
    "last_wed = total.loc[:'2019-05-31'].query('DAW == \"Wednesday\"')['AMT_IND']\n",
    "this_wed = total.loc['2020-02-01':].query('DAW == \"Wednesday\"')['AMT_IND']\n",
    "this_wed.index = (this_wed.index - pd.DateOffset(years=1))\n",
    "\n",
    "last_thu = total.loc[:'2019-05-31'].query('DAW == \"Thursday\"')['AMT_IND']\n",
    "this_thu = total.loc['2020-02-01':].query('DAW == \"Thursday\"')['AMT_IND']\n",
    "this_thu.index = (this_thu.index - pd.DateOffset(years=1))\n",
    "\n",
    "last_fri = total.loc[:'2019-05-31'].query('DAW == \"Friday\"')['AMT_IND']\n",
    "this_fri = total.loc['2020-02-01':].query('DAW == \"Friday\"')['AMT_IND']\n",
    "this_fri.index = (this_fri.index - pd.DateOffset(years=1))\n",
    "\n",
    "last_sat = total.loc[:'2019-05-31'].query('DAW == \"Saturday\"')['AMT_IND']\n",
    "this_sat = total.loc['2020-02-01':].query('DAW == \"Saturday\"')['AMT_IND']\n",
    "this_sat.index = (this_sat.index - pd.DateOffset(years=1))\n",
    "\n",
    "last_sun = total.loc[:'2019-05-31'].query('DAW == \"Sunday\"')['AMT_IND']\n",
    "this_sun = total.loc['2020-02-01':].query('DAW == \"Sunday\"')['AMT_IND']\n",
    "this_sun.index = (this_sun.index - pd.DateOffset(years=1))"
   ]
  },
  {
   "cell_type": "code",
   "execution_count": 29,
   "metadata": {},
   "outputs": [
    {
     "data": {
      "image/png": "[encoded data removed]",
      "text/plain": [
       "<Figure size 1152x576 with 1 Axes>"
      ]
     },
     "metadata": {
      "needs_background": "light"
     },
     "output_type": "display_data"
    }
   ],
   "source": [
    "fig, ax = plt.subplots(figsize=(16, 8))\n",
    "last_mon.groupby(pd.Grouper(freq='W')).mean().plot(ax=ax)\n",
    "this_mon.groupby(pd.Grouper(freq='W')).mean().plot(ax=ax)\n",
    "\n",
    "ax.set_title('월요일 매출지수')\n",
    "ax.set_ylabel('매출지수')\n",
    "#ax.set_xticks(pd.date_range('2019-02-15', '2019-05-31', freq='7D'))\n",
    "#ax.set_xticklabels(['Feb', 'Mar', 'Apr', 'May'])\n",
    "\n",
    "plt.legend(['2019년', '2020년'])\n",
    "\n",
    "plt.show()"
   ]
  },
  {
   "cell_type": "code",
   "execution_count": 30,
   "metadata": {},
   "outputs": [
    {
     "data": {
      "image/png": "[encoded data removed]",
      "text/plain": [
       "<Figure size 1152x576 with 1 Axes>"
      ]
     },
     "metadata": {
      "needs_background": "light"
     },
     "output_type": "display_data"
    }
   ],
   "source": [
    "fig, ax = plt.subplots(figsize=(16, 8))\n",
    "last_tue.groupby(pd.Grouper(freq='W')).mean().plot(ax=ax)\n",
    "this_tue.groupby(pd.Grouper(freq='W')).mean().plot(ax=ax)\n",
    "\n",
    "ax.set_title('화요일 매출지수')\n",
    "ax.set_ylabel('매출지수')\n",
    "#ax.set_xticks(pd.date_range('2019-02-15', '2019-05-31', freq='7D'))\n",
    "#ax.set_xticklabels(['Feb', 'Mar', 'Apr', 'May'])\n",
    "\n",
    "plt.legend(['2019년', '2020년'])\n",
    "\n",
    "plt.show()"
   ]
  },
  {
   "cell_type": "code",
   "execution_count": 31,
   "metadata": {},
   "outputs": [
    {
     "data": {
      "image/png": "[encoded data removed]",
      "text/plain": [
       "<Figure size 1152x576 with 1 Axes>"
      ]
     },
     "metadata": {
      "needs_background": "light"
     },
     "output_type": "display_data"
    }
   ],
   "source": [
    "fig, ax = plt.subplots(figsize=(16, 8))\n",
    "last_wed.groupby(pd.Grouper(freq='W')).mean().plot(ax=ax)\n",
    "this_wed.groupby(pd.Grouper(freq='W')).mean().plot(ax=ax)\n",
    "\n",
    "ax.set_title('수요일 매출지수')\n",
    "ax.set_ylabel('매출지수')\n",
    "#ax.set_xticks(pd.date_range('2019-02-15', '2019-05-31', freq='7D'))\n",
    "#ax.set_xticklabels(['Feb', 'Mar', 'Apr', 'May'])\n",
    "\n",
    "plt.legend(['2019년', '2020년'])\n",
    "\n",
    "plt.show()"
   ]
  },
  {
   "cell_type": "code",
   "execution_count": 32,
   "metadata": {},
   "outputs": [
    {
     "data": {
      "image/png": "[encoded data removed]",
      "text/plain": [
       "<Figure size 1152x576 with 1 Axes>"
      ]
     },
     "metadata": {
      "needs_background": "light"
     },
     "output_type": "display_data"
    }
   ],
   "source": [
    "fig, ax = plt.subplots(figsize=(16, 8))\n",
    "last_thu.groupby(pd.Grouper(freq='W')).mean().plot(ax=ax)\n",
    "this_thu.groupby(pd.Grouper(freq='W')).mean().plot(ax=ax)\n",
    "\n",
    "ax.set_title('목요일 매출지수')\n",
    "ax.set_ylabel('매출지수')\n",
    "#ax.set_xticks(pd.date_range('2019-02-15', '2019-05-31', freq='7D'))\n",
    "#ax.set_xticklabels(['Feb', 'Mar', 'Apr', 'May'])\n",
    "\n",
    "plt.legend(['2019년', '2020년'])\n",
    "\n",
    "plt.show()"
   ]
  },
  {
   "cell_type": "code",
   "execution_count": 33,
   "metadata": {},
   "outputs": [
    {
     "data": {
      "image/png": "[encoded data removed]",
      "text/plain": [
       "<Figure size 1152x576 with 1 Axes>"
      ]
     },
     "metadata": {
      "needs_background": "light"
     },
     "output_type": "display_data"
    }
   ],
   "source": [
    "fig, ax = plt.subplots(figsize=(16, 8))\n",
    "last_fri.groupby(pd.Grouper(freq='W')).mean().plot(ax=ax)\n",
    "this_fri.groupby(pd.Grouper(freq='W')).mean().plot(ax=ax)\n",
    "\n",
    "ax.set_title('금요일 매출지수')\n",
    "ax.set_ylabel('매출지수')\n",
    "#ax.set_xticks(pd.date_range('2019-02-15', '2019-05-31', freq='7D'))\n",
    "#ax.set_xticklabels(['Feb', 'Mar', 'Apr', 'May'])\n",
    "\n",
    "plt.legend(['2019년', '2020년'])\n",
    "\n",
    "plt.show()"
   ]
  },
  {
   "cell_type": "code",
   "execution_count": 34,
   "metadata": {},
   "outputs": [
    {
     "data": {
      "image/png": "[encoded data removed]",
      "text/plain": [
       "<Figure size 1152x576 with 1 Axes>"
      ]
     },
     "metadata": {
      "needs_background": "light"
     },
     "output_type": "display_data"
    }
   ],
   "source": [
    "fig, ax = plt.subplots(figsize=(16, 8))\n",
    "last_sat.groupby(pd.Grouper(freq='W')).mean().plot(ax=ax)\n",
    "this_sat.groupby(pd.Grouper(freq='W')).mean().plot(ax=ax)\n",
    "\n",
    "ax.set_title('토요일 매출지수')\n",
    "ax.set_ylabel('매출지수')\n",
    "#ax.set_xticks(pd.date_range('2019-02-15', '2019-05-31', freq='7D'))\n",
    "#ax.set_xticklabels(['Feb', 'Mar', 'Apr', 'May'])\n",
    "\n",
    "plt.legend(['2019년', '2020년'])\n",
    "\n",
    "plt.show()"
   ]
  },
  {
   "cell_type": "code",
   "execution_count": 35,
   "metadata": {},
   "outputs": [
    {
     "data": {
      "image/png": "[encoded data removed]",
      "text/plain": [
       "<Figure size 1152x576 with 1 Axes>"
      ]
     },
     "metadata": {
      "needs_background": "light"
     },
     "output_type": "display_data"
    }
   ],
   "source": [
    "fig, ax = plt.subplots(figsize=(16, 8))\n",
    "last_sun.groupby(pd.Grouper(freq='W')).mean().plot(ax=ax)\n",
    "this_sun.groupby(pd.Grouper(freq='W')).mean().plot(ax=ax)\n",
    "\n",
    "ax.set_title('일요일 매출지수')\n",
    "ax.set_ylabel('매출지수')\n",
    "#ax.set_xticks(pd.date_range('2019-02-15', '2019-05-31', freq='7D'))\n",
    "#ax.set_xticklabels(['Feb', 'Mar', 'Apr', 'May'])\n",
    "\n",
    "plt.legend(['2019년', '2020년'])\n",
    "\n",
    "plt.show()"
   ]
  },
  {
   "cell_type": "code",
   "execution_count": 40,
   "metadata": {},
   "outputs": [
    {
     "data": {
      "text/plain": [
       "STD_YMD\n",
       "2019-02-05    0.989785\n",
       "2019-02-05    1.658221\n",
       "2019-02-05    0.984660\n",
       "2019-02-05    1.013661\n",
       "2019-02-05    1.241757\n",
       "Name: AMT_IND, dtype: float64"
      ]
     },
     "execution_count": 40,
     "metadata": {},
     "output_type": "execute_result"
    }
   ],
   "source": [
    "last.head()"
   ]
  },
  {
   "cell_type": "code",
   "execution_count": 41,
   "metadata": {},
   "outputs": [
    {
     "data": {
      "text/html": [
       "<div>\n",
       "<style scoped>\n",
       "    .dataframe tbody tr th:only-of-type {\n",
       "        vertical-align: middle;\n",
       "    }\n",
       "\n",
       "    .dataframe tbody tr th {\n",
       "        vertical-align: top;\n",
       "    }\n",
       "\n",
       "    .dataframe thead th {\n",
       "        text-align: right;\n",
       "    }\n",
       "</style>\n",
       "<table border=\"1\" class=\"dataframe\">\n",
       "  <thead>\n",
       "    <tr style=\"text-align: right;\">\n",
       "      <th></th>\n",
       "      <th>GU_NM</th>\n",
       "      <th>HDONG_NM</th>\n",
       "      <th>AMT_IND</th>\n",
       "      <th>DAW</th>\n",
       "    </tr>\n",
       "    <tr>\n",
       "      <th>STD_YMD</th>\n",
       "      <th></th>\n",
       "      <th></th>\n",
       "      <th></th>\n",
       "      <th></th>\n",
       "    </tr>\n",
       "  </thead>\n",
       "  <tbody>\n",
       "    <tr>\n",
       "      <th>2019-02-01</th>\n",
       "      <td>대구 수성구</td>\n",
       "      <td>고산1동</td>\n",
       "      <td>1.064336</td>\n",
       "      <td>Friday</td>\n",
       "    </tr>\n",
       "    <tr>\n",
       "      <th>2019-02-01</th>\n",
       "      <td>대구 수성구</td>\n",
       "      <td>고산2동</td>\n",
       "      <td>1.076418</td>\n",
       "      <td>Friday</td>\n",
       "    </tr>\n",
       "    <tr>\n",
       "      <th>2019-02-01</th>\n",
       "      <td>대구 수성구</td>\n",
       "      <td>고산3동</td>\n",
       "      <td>0.856071</td>\n",
       "      <td>Friday</td>\n",
       "    </tr>\n",
       "    <tr>\n",
       "      <th>2019-02-01</th>\n",
       "      <td>대구 수성구</td>\n",
       "      <td>두산동</td>\n",
       "      <td>0.724868</td>\n",
       "      <td>Friday</td>\n",
       "    </tr>\n",
       "    <tr>\n",
       "      <th>2019-02-01</th>\n",
       "      <td>대구 수성구</td>\n",
       "      <td>만촌1동</td>\n",
       "      <td>1.155728</td>\n",
       "      <td>Friday</td>\n",
       "    </tr>\n",
       "  </tbody>\n",
       "</table>\n",
       "</div>"
      ],
      "text/plain": [
       "             GU_NM HDONG_NM   AMT_IND     DAW\n",
       "STD_YMD                                      \n",
       "2019-02-01  대구 수성구     고산1동  1.064336  Friday\n",
       "2019-02-01  대구 수성구     고산2동  1.076418  Friday\n",
       "2019-02-01  대구 수성구     고산3동  0.856071  Friday\n",
       "2019-02-01  대구 수성구      두산동  0.724868  Friday\n",
       "2019-02-01  대구 수성구     만촌1동  1.155728  Friday"
      ]
     },
     "execution_count": 41,
     "metadata": {},
     "output_type": "execute_result"
    }
   ],
   "source": [
    "index.head()"
   ]
  },
  {
   "cell_type": "markdown",
   "metadata": {},
   "source": [
    "2019년 요일별 매출지수"
   ]
  },
  {
   "cell_type": "code",
   "execution_count": 57,
   "metadata": {},
   "outputs": [
    {
     "data": {
      "text/plain": [
       "<matplotlib.axes._subplots.AxesSubplot at 0x1683dc25d08>"
      ]
     },
     "execution_count": 57,
     "metadata": {},
     "output_type": "execute_result"
    },
    {
     "data": {
      "image/png": "[encoded data removed]",
      "text/plain": [
       "<Figure size 432x288 with 1 Axes>"
      ]
     },
     "metadata": {
      "needs_background": "light"
     },
     "output_type": "display_data"
    }
   ],
   "source": [
    "index.query('index <= \"2019-05-31\"').groupby(['DAW'])['AMT_IND'].mean().plot()"
   ]
  },
  {
   "cell_type": "markdown",
   "metadata": {},
   "source": [
    "2020년 요일별 매출지수"
   ]
  },
  {
   "cell_type": "code",
   "execution_count": 58,
   "metadata": {},
   "outputs": [
    {
     "data": {
      "text/plain": [
       "<matplotlib.axes._subplots.AxesSubplot at 0x1683dcb3408>"
      ]
     },
     "execution_count": 58,
     "metadata": {},
     "output_type": "execute_result"
    },
    {
     "data": {
      "image/png": "[encoded data removed]",
      "text/plain": [
       "<Figure size 432x288 with 1 Axes>"
      ]
     },
     "metadata": {
      "needs_background": "light"
     },
     "output_type": "display_data"
    }
   ],
   "source": [
    "index.query('index >= \"2020-02-01\"').groupby(['DAW'])['AMT_IND'].mean().plot()"
   ]
  },
  {
   "cell_type": "markdown",
   "metadata": {},
   "source": [
    "2019년 대구 요일별 매출지수"
   ]
  },
  {
   "cell_type": "code",
   "execution_count": 61,
   "metadata": {},
   "outputs": [
    {
     "data": {
      "text/plain": [
       "<matplotlib.axes._subplots.AxesSubplot at 0x1683dd20788>"
      ]
     },
     "execution_count": 61,
     "metadata": {},
     "output_type": "execute_result"
    },
    {
     "data": {
      "image/png": "[encoded data removed]",
      "text/plain": [
       "<Figure size 432x288 with 1 Axes>"
      ]
     },
     "metadata": {
      "needs_background": "light"
     },
     "output_type": "display_data"
    }
   ],
   "source": [
    "index.query('index <= \"2019-05-31\"').query('GU_NM == \"대구 수성구\" or GU_NM ==\"대구 중구\"').groupby(['DAW'])['AMT_IND'].mean().plot()"
   ]
  },
  {
   "cell_type": "code",
   "execution_count": null,
   "metadata": {},
   "outputs": [],
   "source": []
  },
  {
   "cell_type": "code",
   "execution_count": null,
   "metadata": {},
   "outputs": [],
   "source": []
  },
  {
   "cell_type": "code",
   "execution_count": null,
   "metadata": {},
   "outputs": [],
   "source": []
  },
  {
   "cell_type": "code",
   "execution_count": null,
   "metadata": {},
   "outputs": [],
   "source": []
  },
  {
   "cell_type": "markdown",
   "metadata": {},
   "source": [
    "## 물류"
   ]
  },
  {
   "cell_type": "code",
   "execution_count": 19,
   "metadata": {
    "scrolled": true
   },
   "outputs": [
    {
     "name": "stdout",
     "output_type": "stream",
     "text": [
      "(156571, 5)\n"
     ]
    },
    {
     "data": {
      "text/html": [
       "<div>\n",
       "<style scoped>\n",
       "    .dataframe tbody tr th:only-of-type {\n",
       "        vertical-align: middle;\n",
       "    }\n",
       "\n",
       "    .dataframe tbody tr th {\n",
       "        vertical-align: top;\n",
       "    }\n",
       "\n",
       "    .dataframe thead th {\n",
       "        text-align: right;\n",
       "    }\n",
       "</style>\n",
       "<table border=\"1\" class=\"dataframe\">\n",
       "  <thead>\n",
       "    <tr style=\"text-align: right;\">\n",
       "      <th></th>\n",
       "      <th>STD_YMD</th>\n",
       "      <th>GU_NM</th>\n",
       "      <th>HDONG_NM</th>\n",
       "      <th>GD_NM</th>\n",
       "      <th>INV_CNT</th>\n",
       "    </tr>\n",
       "  </thead>\n",
       "  <tbody>\n",
       "    <tr>\n",
       "      <th>0</th>\n",
       "      <td>2019-02-01</td>\n",
       "      <td>서울 중구</td>\n",
       "      <td>동화동</td>\n",
       "      <td>도서/음반</td>\n",
       "      <td>16</td>\n",
       "    </tr>\n",
       "    <tr>\n",
       "      <th>1</th>\n",
       "      <td>2019-02-01</td>\n",
       "      <td>서울 중구</td>\n",
       "      <td>신당동</td>\n",
       "      <td>가구/인테리어</td>\n",
       "      <td>4</td>\n",
       "    </tr>\n",
       "    <tr>\n",
       "      <th>2</th>\n",
       "      <td>2019-02-01</td>\n",
       "      <td>대구 중구</td>\n",
       "      <td>성내1동</td>\n",
       "      <td>가구/인테리어</td>\n",
       "      <td>1</td>\n",
       "    </tr>\n",
       "    <tr>\n",
       "      <th>3</th>\n",
       "      <td>2019-02-01</td>\n",
       "      <td>대구 중구</td>\n",
       "      <td>남산2동</td>\n",
       "      <td>도서/음반</td>\n",
       "      <td>6</td>\n",
       "    </tr>\n",
       "    <tr>\n",
       "      <th>4</th>\n",
       "      <td>2019-02-01</td>\n",
       "      <td>대구 수성구</td>\n",
       "      <td>고산3동</td>\n",
       "      <td>디지털/가전</td>\n",
       "      <td>21</td>\n",
       "    </tr>\n",
       "  </tbody>\n",
       "</table>\n",
       "</div>"
      ],
      "text/plain": [
       "     STD_YMD   GU_NM HDONG_NM    GD_NM  INV_CNT\n",
       "0 2019-02-01   서울 중구      동화동    도서/음반       16\n",
       "1 2019-02-01   서울 중구      신당동  가구/인테리어        4\n",
       "2 2019-02-01   대구 중구     성내1동  가구/인테리어        1\n",
       "3 2019-02-01   대구 중구     남산2동    도서/음반        6\n",
       "4 2019-02-01  대구 수성구     고산3동   디지털/가전       21"
      ]
     },
     "execution_count": 19,
     "metadata": {},
     "output_type": "execute_result"
    }
   ],
   "source": [
    "delivery = pd.read_excel('../data/05_CJ_Olive_Networks/cj_dataset.xlsx')\n",
    "delivery = eda.delivery_preprocessing(delivery)\n",
    "print(delivery.shape)\n",
    "delivery.head()"
   ]
  },
  {
   "cell_type": "markdown",
   "metadata": {},
   "source": [
    "## 질병"
   ]
  },
  {
   "cell_type": "markdown",
   "metadata": {},
   "source": [
    "### 유동인구 + 카드매출"
   ]
  },
  {
   "cell_type": "markdown",
   "metadata": {},
   "source": [
    "회현동은 외국인 이용금액이 전체 이용금액에서차지하는 비중이 높으므로 일단은 분석에서 제외"
   ]
  },
  {
   "cell_type": "code",
   "execution_count": 20,
   "metadata": {},
   "outputs": [],
   "source": [
    "rg= pd.merge(resid, age, on=['STD_YMD', 'GU_NM', 'HDONG_NM', 'SEX_CD', 'AGE_CD'],\n",
    "             how='left')"
   ]
  },
  {
   "cell_type": "code",
   "execution_count": 21,
   "metadata": {},
   "outputs": [],
   "source": [
    "rg = rg.query('HDONG_NM != \"회현동\"')"
   ]
  },
  {
   "cell_type": "code",
   "execution_count": 22,
   "metadata": {
    "scrolled": false
   },
   "outputs": [
    {
     "data": {
      "text/html": [
       "<div>\n",
       "<style scoped>\n",
       "    .dataframe tbody tr th:only-of-type {\n",
       "        vertical-align: middle;\n",
       "    }\n",
       "\n",
       "    .dataframe tbody tr th {\n",
       "        vertical-align: top;\n",
       "    }\n",
       "\n",
       "    .dataframe thead th {\n",
       "        text-align: right;\n",
       "    }\n",
       "</style>\n",
       "<table border=\"1\" class=\"dataframe\">\n",
       "  <thead>\n",
       "    <tr style=\"text-align: right;\">\n",
       "      <th></th>\n",
       "      <th>GU_NM</th>\n",
       "      <th>HDONG_NM</th>\n",
       "      <th>SEX_CD</th>\n",
       "      <th>AGE_CD</th>\n",
       "      <th>USE_CNT</th>\n",
       "      <th>USE_AMT</th>\n",
       "      <th>POP_CNT</th>\n",
       "    </tr>\n",
       "    <tr>\n",
       "      <th>STD_YMD</th>\n",
       "      <th></th>\n",
       "      <th></th>\n",
       "      <th></th>\n",
       "      <th></th>\n",
       "      <th></th>\n",
       "      <th></th>\n",
       "      <th></th>\n",
       "    </tr>\n",
       "  </thead>\n",
       "  <tbody>\n",
       "    <tr>\n",
       "      <th>2019-02-01</th>\n",
       "      <td>대구 수성구</td>\n",
       "      <td>고산1동</td>\n",
       "      <td>F</td>\n",
       "      <td>20</td>\n",
       "      <td>634</td>\n",
       "      <td>8206</td>\n",
       "      <td>8940.65</td>\n",
       "    </tr>\n",
       "    <tr>\n",
       "      <th>2019-02-01</th>\n",
       "      <td>대구 수성구</td>\n",
       "      <td>고산1동</td>\n",
       "      <td>F</td>\n",
       "      <td>25</td>\n",
       "      <td>680</td>\n",
       "      <td>11416</td>\n",
       "      <td>3686.51</td>\n",
       "    </tr>\n",
       "    <tr>\n",
       "      <th>2019-02-01</th>\n",
       "      <td>대구 수성구</td>\n",
       "      <td>고산1동</td>\n",
       "      <td>F</td>\n",
       "      <td>30</td>\n",
       "      <td>502</td>\n",
       "      <td>10644</td>\n",
       "      <td>3505.06</td>\n",
       "    </tr>\n",
       "    <tr>\n",
       "      <th>2019-02-01</th>\n",
       "      <td>대구 수성구</td>\n",
       "      <td>고산1동</td>\n",
       "      <td>F</td>\n",
       "      <td>35</td>\n",
       "      <td>691</td>\n",
       "      <td>15472</td>\n",
       "      <td>5378.35</td>\n",
       "    </tr>\n",
       "    <tr>\n",
       "      <th>2019-02-01</th>\n",
       "      <td>대구 수성구</td>\n",
       "      <td>고산1동</td>\n",
       "      <td>F</td>\n",
       "      <td>40</td>\n",
       "      <td>983</td>\n",
       "      <td>23233</td>\n",
       "      <td>6873.14</td>\n",
       "    </tr>\n",
       "    <tr>\n",
       "      <th>...</th>\n",
       "      <td>...</td>\n",
       "      <td>...</td>\n",
       "      <td>...</td>\n",
       "      <td>...</td>\n",
       "      <td>...</td>\n",
       "      <td>...</td>\n",
       "      <td>...</td>\n",
       "    </tr>\n",
       "    <tr>\n",
       "      <th>2020-05-31</th>\n",
       "      <td>서울 중구</td>\n",
       "      <td>황학동</td>\n",
       "      <td>M</td>\n",
       "      <td>45</td>\n",
       "      <td>801</td>\n",
       "      <td>32938</td>\n",
       "      <td>1402.03</td>\n",
       "    </tr>\n",
       "    <tr>\n",
       "      <th>2020-05-31</th>\n",
       "      <td>서울 중구</td>\n",
       "      <td>황학동</td>\n",
       "      <td>M</td>\n",
       "      <td>50</td>\n",
       "      <td>885</td>\n",
       "      <td>36143</td>\n",
       "      <td>1548.26</td>\n",
       "    </tr>\n",
       "    <tr>\n",
       "      <th>2020-05-31</th>\n",
       "      <td>서울 중구</td>\n",
       "      <td>황학동</td>\n",
       "      <td>M</td>\n",
       "      <td>55</td>\n",
       "      <td>645</td>\n",
       "      <td>24650</td>\n",
       "      <td>1499.27</td>\n",
       "    </tr>\n",
       "    <tr>\n",
       "      <th>2020-05-31</th>\n",
       "      <td>서울 중구</td>\n",
       "      <td>황학동</td>\n",
       "      <td>M</td>\n",
       "      <td>60</td>\n",
       "      <td>412</td>\n",
       "      <td>12583</td>\n",
       "      <td>1636.83</td>\n",
       "    </tr>\n",
       "    <tr>\n",
       "      <th>2020-05-31</th>\n",
       "      <td>서울 중구</td>\n",
       "      <td>황학동</td>\n",
       "      <td>M</td>\n",
       "      <td>65</td>\n",
       "      <td>608</td>\n",
       "      <td>22312</td>\n",
       "      <td>2461.18</td>\n",
       "    </tr>\n",
       "  </tbody>\n",
       "</table>\n",
       "<p>327156 rows × 7 columns</p>\n",
       "</div>"
      ],
      "text/plain": [
       "             GU_NM HDONG_NM SEX_CD  AGE_CD  USE_CNT  USE_AMT  POP_CNT\n",
       "STD_YMD                                                              \n",
       "2019-02-01  대구 수성구     고산1동      F      20      634     8206  8940.65\n",
       "2019-02-01  대구 수성구     고산1동      F      25      680    11416  3686.51\n",
       "2019-02-01  대구 수성구     고산1동      F      30      502    10644  3505.06\n",
       "2019-02-01  대구 수성구     고산1동      F      35      691    15472  5378.35\n",
       "2019-02-01  대구 수성구     고산1동      F      40      983    23233  6873.14\n",
       "...            ...      ...    ...     ...      ...      ...      ...\n",
       "2020-05-31   서울 중구      황학동      M      45      801    32938  1402.03\n",
       "2020-05-31   서울 중구      황학동      M      50      885    36143  1548.26\n",
       "2020-05-31   서울 중구      황학동      M      55      645    24650  1499.27\n",
       "2020-05-31   서울 중구      황학동      M      60      412    12583  1636.83\n",
       "2020-05-31   서울 중구      황학동      M      65      608    22312  2461.18\n",
       "\n",
       "[327156 rows x 7 columns]"
      ]
     },
     "execution_count": 22,
     "metadata": {},
     "output_type": "execute_result"
    }
   ],
   "source": [
    "rg = rg.set_index('STD_YMD')\n",
    "rg"
   ]
  },
  {
   "cell_type": "code",
   "execution_count": 23,
   "metadata": {},
   "outputs": [
    {
     "data": {
      "image/png": "[encoded data removed]",
      "text/plain": [
       "<Figure size 432x288 with 1 Axes>"
      ]
     },
     "metadata": {
      "needs_background": "light"
     },
     "output_type": "display_data"
    }
   ],
   "source": [
    "rg.query('GU_NM == \"대구 수성구\"').groupby('HDONG_NM')[['USE_AMT', 'POP_CNT']].sum().plot(kind='bar')\n",
    "plt.show()"
   ]
  },
  {
   "cell_type": "code",
   "execution_count": 31,
   "metadata": {},
   "outputs": [
    {
     "data": {
      "image/png": "[encoded data removed]",
      "text/plain": [
       "<Figure size 432x288 with 1 Axes>"
      ]
     },
     "metadata": {
      "needs_background": "light"
     },
     "output_type": "display_data"
    }
   ],
   "source": [
    "rg.query('GU_NM == \"대구 중구\"').groupby('HDONG_NM')[['USE_AMT', 'POP_CNT']].sum().plot(kind='bar')\n",
    "plt.show()"
   ]
  },
  {
   "cell_type": "code",
   "execution_count": 32,
   "metadata": {},
   "outputs": [
    {
     "data": {
      "image/png": "[encoded data removed]",
      "text/plain": [
       "<Figure size 432x288 with 1 Axes>"
      ]
     },
     "metadata": {
      "needs_background": "light"
     },
     "output_type": "display_data"
    }
   ],
   "source": [
    "rg.query('GU_NM == \"서울 노원구\"').groupby('HDONG_NM')[['USE_AMT', 'POP_CNT']].sum().plot(kind='bar')\n",
    "plt.show()"
   ]
  },
  {
   "cell_type": "code",
   "execution_count": 33,
   "metadata": {},
   "outputs": [
    {
     "data": {
      "image/png": "[encoded data removed]",
      "text/plain": [
       "<Figure size 432x288 with 1 Axes>"
      ]
     },
     "metadata": {
      "needs_background": "light"
     },
     "output_type": "display_data"
    }
   ],
   "source": [
    "rg.query('GU_NM == \"서울 중구\"').groupby('HDONG_NM')[['USE_AMT', 'POP_CNT']].sum().plot(kind='bar')\n",
    "plt.show()"
   ]
  },
  {
   "cell_type": "code",
   "execution_count": 24,
   "metadata": {},
   "outputs": [
    {
     "data": {
      "text/html": [
       "<div>\n",
       "<style scoped>\n",
       "    .dataframe tbody tr th:only-of-type {\n",
       "        vertical-align: middle;\n",
       "    }\n",
       "\n",
       "    .dataframe tbody tr th {\n",
       "        vertical-align: top;\n",
       "    }\n",
       "\n",
       "    .dataframe thead th {\n",
       "        text-align: right;\n",
       "    }\n",
       "</style>\n",
       "<table border=\"1\" class=\"dataframe\">\n",
       "  <thead>\n",
       "    <tr style=\"text-align: right;\">\n",
       "      <th></th>\n",
       "      <th>USE_AMT</th>\n",
       "      <th>POP_CNT</th>\n",
       "    </tr>\n",
       "  </thead>\n",
       "  <tbody>\n",
       "    <tr>\n",
       "      <th>USE_AMT</th>\n",
       "      <td>1.00000</td>\n",
       "      <td>0.60598</td>\n",
       "    </tr>\n",
       "    <tr>\n",
       "      <th>POP_CNT</th>\n",
       "      <td>0.60598</td>\n",
       "      <td>1.00000</td>\n",
       "    </tr>\n",
       "  </tbody>\n",
       "</table>\n",
       "</div>"
      ],
      "text/plain": [
       "         USE_AMT  POP_CNT\n",
       "USE_AMT  1.00000  0.60598\n",
       "POP_CNT  0.60598  1.00000"
      ]
     },
     "execution_count": 24,
     "metadata": {},
     "output_type": "execute_result"
    }
   ],
   "source": [
    "rg.query('GU_NM == \"대구 중구\"')[['USE_AMT', 'POP_CNT']].corr()"
   ]
  },
  {
   "cell_type": "markdown",
   "metadata": {},
   "source": [
    "### 유동인구 + 카드매출 + 매출지수"
   ]
  },
  {
   "cell_type": "code",
   "execution_count": 25,
   "metadata": {
    "scrolled": false
   },
   "outputs": [
    {
     "data": {
      "text/html": [
       "<div>\n",
       "<style scoped>\n",
       "    .dataframe tbody tr th:only-of-type {\n",
       "        vertical-align: middle;\n",
       "    }\n",
       "\n",
       "    .dataframe tbody tr th {\n",
       "        vertical-align: top;\n",
       "    }\n",
       "\n",
       "    .dataframe thead th {\n",
       "        text-align: right;\n",
       "    }\n",
       "</style>\n",
       "<table border=\"1\" class=\"dataframe\">\n",
       "  <thead>\n",
       "    <tr style=\"text-align: right;\">\n",
       "      <th></th>\n",
       "      <th>STD_YMD</th>\n",
       "      <th>GU_NM</th>\n",
       "      <th>HDONG_NM</th>\n",
       "      <th>USE_CNT</th>\n",
       "      <th>USE_AMT</th>\n",
       "      <th>POP_CNT</th>\n",
       "      <th>AMT_IND</th>\n",
       "    </tr>\n",
       "  </thead>\n",
       "  <tbody>\n",
       "    <tr>\n",
       "      <th>0</th>\n",
       "      <td>2019-02-01</td>\n",
       "      <td>대구 수성구</td>\n",
       "      <td>고산1동</td>\n",
       "      <td>15389</td>\n",
       "      <td>412037</td>\n",
       "      <td>133361.08</td>\n",
       "      <td>1.064336</td>\n",
       "    </tr>\n",
       "    <tr>\n",
       "      <th>1</th>\n",
       "      <td>2019-02-01</td>\n",
       "      <td>대구 수성구</td>\n",
       "      <td>고산2동</td>\n",
       "      <td>11548</td>\n",
       "      <td>387103</td>\n",
       "      <td>254912.57</td>\n",
       "      <td>1.076418</td>\n",
       "    </tr>\n",
       "    <tr>\n",
       "      <th>2</th>\n",
       "      <td>2019-02-01</td>\n",
       "      <td>대구 수성구</td>\n",
       "      <td>고산3동</td>\n",
       "      <td>12774</td>\n",
       "      <td>336823</td>\n",
       "      <td>57764.08</td>\n",
       "      <td>0.856071</td>\n",
       "    </tr>\n",
       "    <tr>\n",
       "      <th>3</th>\n",
       "      <td>2019-02-01</td>\n",
       "      <td>대구 수성구</td>\n",
       "      <td>두산동</td>\n",
       "      <td>15480</td>\n",
       "      <td>683605</td>\n",
       "      <td>125647.42</td>\n",
       "      <td>0.724868</td>\n",
       "    </tr>\n",
       "    <tr>\n",
       "      <th>4</th>\n",
       "      <td>2019-02-01</td>\n",
       "      <td>대구 수성구</td>\n",
       "      <td>만촌1동</td>\n",
       "      <td>12039</td>\n",
       "      <td>544981</td>\n",
       "      <td>132277.61</td>\n",
       "      <td>1.155728</td>\n",
       "    </tr>\n",
       "    <tr>\n",
       "      <th>...</th>\n",
       "      <td>...</td>\n",
       "      <td>...</td>\n",
       "      <td>...</td>\n",
       "      <td>...</td>\n",
       "      <td>...</td>\n",
       "      <td>...</td>\n",
       "      <td>...</td>\n",
       "    </tr>\n",
       "    <tr>\n",
       "      <th>14455</th>\n",
       "      <td>2020-05-31</td>\n",
       "      <td>서울 중구</td>\n",
       "      <td>중림동</td>\n",
       "      <td>7713</td>\n",
       "      <td>209653</td>\n",
       "      <td>21982.16</td>\n",
       "      <td>1.595038</td>\n",
       "    </tr>\n",
       "    <tr>\n",
       "      <th>14456</th>\n",
       "      <td>2020-05-31</td>\n",
       "      <td>서울 중구</td>\n",
       "      <td>청구동</td>\n",
       "      <td>4061</td>\n",
       "      <td>67182</td>\n",
       "      <td>15985.86</td>\n",
       "      <td>1.389184</td>\n",
       "    </tr>\n",
       "    <tr>\n",
       "      <th>14457</th>\n",
       "      <td>2020-05-31</td>\n",
       "      <td>서울 중구</td>\n",
       "      <td>필동</td>\n",
       "      <td>10271</td>\n",
       "      <td>213727</td>\n",
       "      <td>53756.05</td>\n",
       "      <td>0.714265</td>\n",
       "    </tr>\n",
       "    <tr>\n",
       "      <th>14458</th>\n",
       "      <td>2020-05-31</td>\n",
       "      <td>서울 중구</td>\n",
       "      <td>황학동</td>\n",
       "      <td>12780</td>\n",
       "      <td>389885</td>\n",
       "      <td>28761.22</td>\n",
       "      <td>1.134190</td>\n",
       "    </tr>\n",
       "    <tr>\n",
       "      <th>14459</th>\n",
       "      <td>2020-05-31</td>\n",
       "      <td>서울 중구</td>\n",
       "      <td>회현동</td>\n",
       "      <td>46965</td>\n",
       "      <td>2927720</td>\n",
       "      <td>104740.08</td>\n",
       "      <td>0.773963</td>\n",
       "    </tr>\n",
       "  </tbody>\n",
       "</table>\n",
       "<p>14460 rows × 7 columns</p>\n",
       "</div>"
      ],
      "text/plain": [
       "         STD_YMD   GU_NM HDONG_NM  USE_CNT  USE_AMT    POP_CNT   AMT_IND\n",
       "0     2019-02-01  대구 수성구     고산1동    15389   412037  133361.08  1.064336\n",
       "1     2019-02-01  대구 수성구     고산2동    11548   387103  254912.57  1.076418\n",
       "2     2019-02-01  대구 수성구     고산3동    12774   336823   57764.08  0.856071\n",
       "3     2019-02-01  대구 수성구      두산동    15480   683605  125647.42  0.724868\n",
       "4     2019-02-01  대구 수성구     만촌1동    12039   544981  132277.61  1.155728\n",
       "...          ...     ...      ...      ...      ...        ...       ...\n",
       "14455 2020-05-31   서울 중구      중림동     7713   209653   21982.16  1.595038\n",
       "14456 2020-05-31   서울 중구      청구동     4061    67182   15985.86  1.389184\n",
       "14457 2020-05-31   서울 중구       필동    10271   213727   53756.05  0.714265\n",
       "14458 2020-05-31   서울 중구      황학동    12780   389885   28761.22  1.134190\n",
       "14459 2020-05-31   서울 중구      회현동    46965  2927720  104740.08  0.773963\n",
       "\n",
       "[14460 rows x 7 columns]"
      ]
     },
     "execution_count": 25,
     "metadata": {},
     "output_type": "execute_result"
    }
   ],
   "source": [
    "sgx = pd.merge(sales, tr_age).merge(index)\n",
    "sgx"
   ]
  },
  {
   "cell_type": "markdown",
   "metadata": {},
   "source": [
    "### 유동인구 + 카드매출 + 매출지수 + 감염병"
   ]
  },
  {
   "cell_type": "code",
   "execution_count": 26,
   "metadata": {},
   "outputs": [
    {
     "data": {
      "text/html": [
       "<div>\n",
       "<style scoped>\n",
       "    .dataframe tbody tr th:only-of-type {\n",
       "        vertical-align: middle;\n",
       "    }\n",
       "\n",
       "    .dataframe tbody tr th {\n",
       "        vertical-align: top;\n",
       "    }\n",
       "\n",
       "    .dataframe thead th {\n",
       "        text-align: right;\n",
       "    }\n",
       "</style>\n",
       "<table border=\"1\" class=\"dataframe\">\n",
       "  <thead>\n",
       "    <tr style=\"text-align: right;\">\n",
       "      <th></th>\n",
       "      <th>STD_YMD</th>\n",
       "      <th>GU_NM</th>\n",
       "      <th>HDONG_NM</th>\n",
       "      <th>USE_CNT</th>\n",
       "      <th>USE_AMT</th>\n",
       "      <th>POP_CNT</th>\n",
       "      <th>AMT_IND</th>\n",
       "    </tr>\n",
       "  </thead>\n",
       "  <tbody>\n",
       "    <tr>\n",
       "      <th>0</th>\n",
       "      <td>2019-02-01</td>\n",
       "      <td>대구 수성구</td>\n",
       "      <td>고산1동</td>\n",
       "      <td>15389</td>\n",
       "      <td>412037</td>\n",
       "      <td>133361.08</td>\n",
       "      <td>1.064336</td>\n",
       "    </tr>\n",
       "    <tr>\n",
       "      <th>1</th>\n",
       "      <td>2019-02-01</td>\n",
       "      <td>대구 수성구</td>\n",
       "      <td>고산2동</td>\n",
       "      <td>11548</td>\n",
       "      <td>387103</td>\n",
       "      <td>254912.57</td>\n",
       "      <td>1.076418</td>\n",
       "    </tr>\n",
       "    <tr>\n",
       "      <th>2</th>\n",
       "      <td>2019-02-01</td>\n",
       "      <td>대구 수성구</td>\n",
       "      <td>고산3동</td>\n",
       "      <td>12774</td>\n",
       "      <td>336823</td>\n",
       "      <td>57764.08</td>\n",
       "      <td>0.856071</td>\n",
       "    </tr>\n",
       "    <tr>\n",
       "      <th>3</th>\n",
       "      <td>2019-02-01</td>\n",
       "      <td>대구 수성구</td>\n",
       "      <td>두산동</td>\n",
       "      <td>15480</td>\n",
       "      <td>683605</td>\n",
       "      <td>125647.42</td>\n",
       "      <td>0.724868</td>\n",
       "    </tr>\n",
       "    <tr>\n",
       "      <th>4</th>\n",
       "      <td>2019-02-01</td>\n",
       "      <td>대구 수성구</td>\n",
       "      <td>만촌1동</td>\n",
       "      <td>12039</td>\n",
       "      <td>544981</td>\n",
       "      <td>132277.61</td>\n",
       "      <td>1.155728</td>\n",
       "    </tr>\n",
       "    <tr>\n",
       "      <th>...</th>\n",
       "      <td>...</td>\n",
       "      <td>...</td>\n",
       "      <td>...</td>\n",
       "      <td>...</td>\n",
       "      <td>...</td>\n",
       "      <td>...</td>\n",
       "      <td>...</td>\n",
       "    </tr>\n",
       "    <tr>\n",
       "      <th>14455</th>\n",
       "      <td>2020-05-31</td>\n",
       "      <td>서울 중구</td>\n",
       "      <td>중림동</td>\n",
       "      <td>7713</td>\n",
       "      <td>209653</td>\n",
       "      <td>21982.16</td>\n",
       "      <td>1.595038</td>\n",
       "    </tr>\n",
       "    <tr>\n",
       "      <th>14456</th>\n",
       "      <td>2020-05-31</td>\n",
       "      <td>서울 중구</td>\n",
       "      <td>청구동</td>\n",
       "      <td>4061</td>\n",
       "      <td>67182</td>\n",
       "      <td>15985.86</td>\n",
       "      <td>1.389184</td>\n",
       "    </tr>\n",
       "    <tr>\n",
       "      <th>14457</th>\n",
       "      <td>2020-05-31</td>\n",
       "      <td>서울 중구</td>\n",
       "      <td>필동</td>\n",
       "      <td>10271</td>\n",
       "      <td>213727</td>\n",
       "      <td>53756.05</td>\n",
       "      <td>0.714265</td>\n",
       "    </tr>\n",
       "    <tr>\n",
       "      <th>14458</th>\n",
       "      <td>2020-05-31</td>\n",
       "      <td>서울 중구</td>\n",
       "      <td>황학동</td>\n",
       "      <td>12780</td>\n",
       "      <td>389885</td>\n",
       "      <td>28761.22</td>\n",
       "      <td>1.134190</td>\n",
       "    </tr>\n",
       "    <tr>\n",
       "      <th>14459</th>\n",
       "      <td>2020-05-31</td>\n",
       "      <td>서울 중구</td>\n",
       "      <td>회현동</td>\n",
       "      <td>46965</td>\n",
       "      <td>2927720</td>\n",
       "      <td>104740.08</td>\n",
       "      <td>0.773963</td>\n",
       "    </tr>\n",
       "  </tbody>\n",
       "</table>\n",
       "<p>14460 rows × 7 columns</p>\n",
       "</div>"
      ],
      "text/plain": [
       "         STD_YMD   GU_NM HDONG_NM  USE_CNT  USE_AMT    POP_CNT   AMT_IND\n",
       "0     2019-02-01  대구 수성구     고산1동    15389   412037  133361.08  1.064336\n",
       "1     2019-02-01  대구 수성구     고산2동    11548   387103  254912.57  1.076418\n",
       "2     2019-02-01  대구 수성구     고산3동    12774   336823   57764.08  0.856071\n",
       "3     2019-02-01  대구 수성구      두산동    15480   683605  125647.42  0.724868\n",
       "4     2019-02-01  대구 수성구     만촌1동    12039   544981  132277.61  1.155728\n",
       "...          ...     ...      ...      ...      ...        ...       ...\n",
       "14455 2020-05-31   서울 중구      중림동     7713   209653   21982.16  1.595038\n",
       "14456 2020-05-31   서울 중구      청구동     4061    67182   15985.86  1.389184\n",
       "14457 2020-05-31   서울 중구       필동    10271   213727   53756.05  0.714265\n",
       "14458 2020-05-31   서울 중구      황학동    12780   389885   28761.22  1.134190\n",
       "14459 2020-05-31   서울 중구      회현동    46965  2927720  104740.08  0.773963\n",
       "\n",
       "[14460 rows x 7 columns]"
      ]
     },
     "execution_count": 26,
     "metadata": {},
     "output_type": "execute_result"
    }
   ],
   "source": [
    "sgx"
   ]
  },
  {
   "cell_type": "code",
   "execution_count": null,
   "metadata": {},
   "outputs": [],
   "source": []
  },
  {
   "cell_type": "code",
   "execution_count": null,
   "metadata": {},
   "outputs": [],
   "source": []
  },
  {
   "cell_type": "code",
   "execution_count": null,
   "metadata": {},
   "outputs": [],
   "source": []
  },
  {
   "cell_type": "code",
   "execution_count": null,
   "metadata": {},
   "outputs": [],
   "source": []
  },
  {
   "cell_type": "code",
   "execution_count": null,
   "metadata": {},
   "outputs": [],
   "source": []
  },
  {
   "cell_type": "code",
   "execution_count": null,
   "metadata": {},
   "outputs": [],
   "source": []
  },
  {
   "cell_type": "code",
   "execution_count": null,
   "metadata": {},
   "outputs": [],
   "source": []
  },
  {
   "cell_type": "code",
   "execution_count": null,
   "metadata": {},
   "outputs": [],
   "source": []
  },
  {
   "cell_type": "markdown",
   "metadata": {},
   "source": [
    "### 유동인구 + 카드매출 + 송장건수"
   ]
  },
  {
   "cell_type": "code",
   "execution_count": 27,
   "metadata": {},
   "outputs": [],
   "source": [
    "tr_delivery = delivery.groupby(['STD_YMD', 'GU_NM', 'HDONG_NM'])['INV_CNT'] \\\n",
    "                      .sum().reset_index()"
   ]
  },
  {
   "cell_type": "code",
   "execution_count": 28,
   "metadata": {
    "scrolled": false
   },
   "outputs": [
    {
     "data": {
      "text/html": [
       "<div>\n",
       "<style scoped>\n",
       "    .dataframe tbody tr th:only-of-type {\n",
       "        vertical-align: middle;\n",
       "    }\n",
       "\n",
       "    .dataframe tbody tr th {\n",
       "        vertical-align: top;\n",
       "    }\n",
       "\n",
       "    .dataframe thead th {\n",
       "        text-align: right;\n",
       "    }\n",
       "</style>\n",
       "<table border=\"1\" class=\"dataframe\">\n",
       "  <thead>\n",
       "    <tr style=\"text-align: right;\">\n",
       "      <th></th>\n",
       "      <th>STD_YMD</th>\n",
       "      <th>GU_NM</th>\n",
       "      <th>HDONG_NM</th>\n",
       "      <th>USE_CNT</th>\n",
       "      <th>USE_AMT</th>\n",
       "      <th>POP_CNT</th>\n",
       "      <th>INV_CNT</th>\n",
       "    </tr>\n",
       "  </thead>\n",
       "  <tbody>\n",
       "    <tr>\n",
       "      <th>0</th>\n",
       "      <td>2019-02-01</td>\n",
       "      <td>대구 수성구</td>\n",
       "      <td>고산1동</td>\n",
       "      <td>15389</td>\n",
       "      <td>412037</td>\n",
       "      <td>133361.08</td>\n",
       "      <td>333</td>\n",
       "    </tr>\n",
       "    <tr>\n",
       "      <th>1</th>\n",
       "      <td>2019-02-01</td>\n",
       "      <td>대구 수성구</td>\n",
       "      <td>고산2동</td>\n",
       "      <td>11548</td>\n",
       "      <td>387103</td>\n",
       "      <td>254912.57</td>\n",
       "      <td>220</td>\n",
       "    </tr>\n",
       "    <tr>\n",
       "      <th>2</th>\n",
       "      <td>2019-02-01</td>\n",
       "      <td>대구 수성구</td>\n",
       "      <td>고산3동</td>\n",
       "      <td>12774</td>\n",
       "      <td>336823</td>\n",
       "      <td>57764.08</td>\n",
       "      <td>348</td>\n",
       "    </tr>\n",
       "    <tr>\n",
       "      <th>3</th>\n",
       "      <td>2019-02-01</td>\n",
       "      <td>대구 수성구</td>\n",
       "      <td>두산동</td>\n",
       "      <td>15480</td>\n",
       "      <td>683605</td>\n",
       "      <td>125647.42</td>\n",
       "      <td>137</td>\n",
       "    </tr>\n",
       "    <tr>\n",
       "      <th>4</th>\n",
       "      <td>2019-02-01</td>\n",
       "      <td>대구 수성구</td>\n",
       "      <td>만촌1동</td>\n",
       "      <td>12039</td>\n",
       "      <td>544981</td>\n",
       "      <td>132277.61</td>\n",
       "      <td>186</td>\n",
       "    </tr>\n",
       "    <tr>\n",
       "      <th>...</th>\n",
       "      <td>...</td>\n",
       "      <td>...</td>\n",
       "      <td>...</td>\n",
       "      <td>...</td>\n",
       "      <td>...</td>\n",
       "      <td>...</td>\n",
       "      <td>...</td>\n",
       "    </tr>\n",
       "    <tr>\n",
       "      <th>16564</th>\n",
       "      <td>2020-05-31</td>\n",
       "      <td>서울 중구</td>\n",
       "      <td>중림동</td>\n",
       "      <td>7713</td>\n",
       "      <td>209653</td>\n",
       "      <td>21982.16</td>\n",
       "      <td>150</td>\n",
       "    </tr>\n",
       "    <tr>\n",
       "      <th>16565</th>\n",
       "      <td>2020-05-31</td>\n",
       "      <td>서울 중구</td>\n",
       "      <td>청구동</td>\n",
       "      <td>4061</td>\n",
       "      <td>67182</td>\n",
       "      <td>15985.86</td>\n",
       "      <td>106</td>\n",
       "    </tr>\n",
       "    <tr>\n",
       "      <th>16566</th>\n",
       "      <td>2020-05-31</td>\n",
       "      <td>서울 중구</td>\n",
       "      <td>필동</td>\n",
       "      <td>10271</td>\n",
       "      <td>213727</td>\n",
       "      <td>53756.05</td>\n",
       "      <td>58</td>\n",
       "    </tr>\n",
       "    <tr>\n",
       "      <th>16567</th>\n",
       "      <td>2020-05-31</td>\n",
       "      <td>서울 중구</td>\n",
       "      <td>황학동</td>\n",
       "      <td>12780</td>\n",
       "      <td>389885</td>\n",
       "      <td>28761.22</td>\n",
       "      <td>149</td>\n",
       "    </tr>\n",
       "    <tr>\n",
       "      <th>16568</th>\n",
       "      <td>2020-05-31</td>\n",
       "      <td>서울 중구</td>\n",
       "      <td>회현동</td>\n",
       "      <td>46965</td>\n",
       "      <td>2927720</td>\n",
       "      <td>104740.08</td>\n",
       "      <td>102</td>\n",
       "    </tr>\n",
       "  </tbody>\n",
       "</table>\n",
       "<p>16569 rows × 7 columns</p>\n",
       "</div>"
      ],
      "text/plain": [
       "         STD_YMD   GU_NM HDONG_NM  USE_CNT  USE_AMT    POP_CNT  INV_CNT\n",
       "0     2019-02-01  대구 수성구     고산1동    15389   412037  133361.08      333\n",
       "1     2019-02-01  대구 수성구     고산2동    11548   387103  254912.57      220\n",
       "2     2019-02-01  대구 수성구     고산3동    12774   336823   57764.08      348\n",
       "3     2019-02-01  대구 수성구      두산동    15480   683605  125647.42      137\n",
       "4     2019-02-01  대구 수성구     만촌1동    12039   544981  132277.61      186\n",
       "...          ...     ...      ...      ...      ...        ...      ...\n",
       "16564 2020-05-31   서울 중구      중림동     7713   209653   21982.16      150\n",
       "16565 2020-05-31   서울 중구      청구동     4061    67182   15985.86      106\n",
       "16566 2020-05-31   서울 중구       필동    10271   213727   53756.05       58\n",
       "16567 2020-05-31   서울 중구      황학동    12780   389885   28761.22      149\n",
       "16568 2020-05-31   서울 중구      회현동    46965  2927720  104740.08      102\n",
       "\n",
       "[16569 rows x 7 columns]"
      ]
     },
     "execution_count": 28,
     "metadata": {},
     "output_type": "execute_result"
    }
   ],
   "source": [
    "sgy = pd.merge(sales, tr_age).merge(tr_delivery)\n",
    "sgy"
   ]
  },
  {
   "cell_type": "markdown",
   "metadata": {},
   "source": [
    "### 유동인구 + TOPIC"
   ]
  },
  {
   "cell_type": "code",
   "execution_count": 29,
   "metadata": {},
   "outputs": [
    {
     "name": "stdout",
     "output_type": "stream",
     "text": [
      "(280, 4)\n"
     ]
    },
    {
     "data": {
      "text/html": [
       "<div>\n",
       "<style scoped>\n",
       "    .dataframe tbody tr th:only-of-type {\n",
       "        vertical-align: middle;\n",
       "    }\n",
       "\n",
       "    .dataframe tbody tr th {\n",
       "        vertical-align: top;\n",
       "    }\n",
       "\n",
       "    .dataframe thead th {\n",
       "        text-align: right;\n",
       "    }\n",
       "</style>\n",
       "<table border=\"1\" class=\"dataframe\">\n",
       "  <thead>\n",
       "    <tr style=\"text-align: right;\">\n",
       "      <th></th>\n",
       "      <th>GU_NM</th>\n",
       "      <th>HDONG_NM</th>\n",
       "      <th>TOPIC</th>\n",
       "      <th>POP_CNT</th>\n",
       "    </tr>\n",
       "    <tr>\n",
       "      <th>STD_YMD</th>\n",
       "      <th></th>\n",
       "      <th></th>\n",
       "      <th></th>\n",
       "      <th></th>\n",
       "    </tr>\n",
       "  </thead>\n",
       "  <tbody>\n",
       "    <tr>\n",
       "      <th>2019-02-01</th>\n",
       "      <td>서울 중구</td>\n",
       "      <td>소공동</td>\n",
       "      <td>장관,기념식,창간,롯데호텔,뷔페</td>\n",
       "      <td>5926560.345</td>\n",
       "    </tr>\n",
       "    <tr>\n",
       "      <th>2019-02-01</th>\n",
       "      <td>서울 중구</td>\n",
       "      <td>회현동</td>\n",
       "      <td>회현동,서울역,도시재생,윤동주,일제강점기</td>\n",
       "      <td>7799199.960</td>\n",
       "    </tr>\n",
       "    <tr>\n",
       "      <th>2019-02-01</th>\n",
       "      <td>서울 중구</td>\n",
       "      <td>명동</td>\n",
       "      <td>생활유산,열쇠고리,신세계백화점,리뉴얼,관광객</td>\n",
       "      <td>9344658.395</td>\n",
       "    </tr>\n",
       "    <tr>\n",
       "      <th>2019-02-01</th>\n",
       "      <td>서울 중구</td>\n",
       "      <td>필동</td>\n",
       "      <td>저작권,영남상생포럼,자유한국장,지적,그랜드호텔</td>\n",
       "      <td>3474740.560</td>\n",
       "    </tr>\n",
       "    <tr>\n",
       "      <th>2019-02-01</th>\n",
       "      <td>서울 중구</td>\n",
       "      <td>장충동</td>\n",
       "      <td>빵집,태극당,신라호텔,세관,감사원</td>\n",
       "      <td>2262422.520</td>\n",
       "    </tr>\n",
       "  </tbody>\n",
       "</table>\n",
       "</div>"
      ],
      "text/plain": [
       "            GU_NM HDONG_NM                      TOPIC      POP_CNT\n",
       "STD_YMD                                                           \n",
       "2019-02-01  서울 중구      소공동          장관,기념식,창간,롯데호텔,뷔페  5926560.345\n",
       "2019-02-01  서울 중구      회현동     회현동,서울역,도시재생,윤동주,일제강점기  7799199.960\n",
       "2019-02-01  서울 중구       명동   생활유산,열쇠고리,신세계백화점,리뉴얼,관광객  9344658.395\n",
       "2019-02-01  서울 중구       필동  저작권,영남상생포럼,자유한국장,지적,그랜드호텔  3474740.560\n",
       "2019-02-01  서울 중구      장충동         빵집,태극당,신라호텔,세관,감사원  2262422.520"
      ]
     },
     "execution_count": 29,
     "metadata": {},
     "output_type": "execute_result"
    }
   ],
   "source": [
    "tl = pd.merge(topic, hd_flow)\n",
    "tl = tl.set_index('STD_YMD')\n",
    "print(tl.shape)\n",
    "tl.head()"
   ]
  },
  {
   "cell_type": "code",
   "execution_count": 30,
   "metadata": {
    "scrolled": false
   },
   "outputs": [
    {
     "data": {
      "text/html": [
       "<div>\n",
       "<style scoped>\n",
       "    .dataframe tbody tr th:only-of-type {\n",
       "        vertical-align: middle;\n",
       "    }\n",
       "\n",
       "    .dataframe tbody tr th {\n",
       "        vertical-align: top;\n",
       "    }\n",
       "\n",
       "    .dataframe thead th {\n",
       "        text-align: right;\n",
       "    }\n",
       "</style>\n",
       "<table border=\"1\" class=\"dataframe\">\n",
       "  <thead>\n",
       "    <tr style=\"text-align: right;\">\n",
       "      <th></th>\n",
       "      <th>GU_NM</th>\n",
       "      <th>HDONG_NM</th>\n",
       "      <th>TOPIC</th>\n",
       "      <th>POP_CNT</th>\n",
       "    </tr>\n",
       "    <tr>\n",
       "      <th>STD_YMD</th>\n",
       "      <th></th>\n",
       "      <th></th>\n",
       "      <th></th>\n",
       "      <th></th>\n",
       "    </tr>\n",
       "  </thead>\n",
       "  <tbody>\n",
       "    <tr>\n",
       "      <th>2020-05-01</th>\n",
       "      <td>대구 수성구</td>\n",
       "      <td>고산동</td>\n",
       "      <td>회복세,지자체,방문자제,대기업,취업제한</td>\n",
       "      <td>1.191514e+07</td>\n",
       "    </tr>\n",
       "    <tr>\n",
       "      <th>2020-05-01</th>\n",
       "      <td>대구 수성구</td>\n",
       "      <td>범어동</td>\n",
       "      <td>코로나19,확진자,주거시설,학부모,금감원장</td>\n",
       "      <td>6.866484e+06</td>\n",
       "    </tr>\n",
       "    <tr>\n",
       "      <th>2020-05-01</th>\n",
       "      <td>대구 수성구</td>\n",
       "      <td>만촌동</td>\n",
       "      <td>이용수,정의기억연대,위안부,윤미향,더불어민주당</td>\n",
       "      <td>5.922134e+06</td>\n",
       "    </tr>\n",
       "    <tr>\n",
       "      <th>2020-05-01</th>\n",
       "      <td>대구 수성구</td>\n",
       "      <td>수성동</td>\n",
       "      <td>위안화,전산망,윤석헌,자회사,남광토건</td>\n",
       "      <td>4.675632e+06</td>\n",
       "    </tr>\n",
       "    <tr>\n",
       "      <th>2020-05-01</th>\n",
       "      <td>대구 수성구</td>\n",
       "      <td>황금동</td>\n",
       "      <td>문화도시,수성못,공연거리,행정복지센터,지자체</td>\n",
       "      <td>2.977744e+06</td>\n",
       "    </tr>\n",
       "  </tbody>\n",
       "</table>\n",
       "</div>"
      ],
      "text/plain": [
       "             GU_NM HDONG_NM                      TOPIC       POP_CNT\n",
       "STD_YMD                                                             \n",
       "2020-05-01  대구 수성구      고산동      회복세,지자체,방문자제,대기업,취업제한  1.191514e+07\n",
       "2020-05-01  대구 수성구      범어동    코로나19,확진자,주거시설,학부모,금감원장  6.866484e+06\n",
       "2020-05-01  대구 수성구      만촌동  이용수,정의기억연대,위안부,윤미향,더불어민주당  5.922134e+06\n",
       "2020-05-01  대구 수성구      수성동       위안화,전산망,윤석헌,자회사,남광토건  4.675632e+06\n",
       "2020-05-01  대구 수성구      황금동   문화도시,수성못,공연거리,행정복지센터,지자체  2.977744e+06"
      ]
     },
     "execution_count": 30,
     "metadata": {},
     "output_type": "execute_result"
    }
   ],
   "source": [
    "tl['2020-5'].query('\"대구 수성구\" in GU_NM').sort_values(by='POP_CNT', \n",
    "                                                        ascending=False)[:5]"
   ]
  },
  {
   "cell_type": "code",
   "execution_count": null,
   "metadata": {},
   "outputs": [],
   "source": []
  }
 ],
 "metadata": {
  "kernelspec": {
   "display_name": "Python 3",
   "language": "python",
   "name": "python3"
  },
  "language_info": {
   "codemirror_mode": {
    "name": "ipython",
    "version": 3
   },
   "file_extension": ".py",
   "mimetype": "text/x-python",
   "name": "python",
   "nbconvert_exporter": "python",
   "pygments_lexer": "ipython3",
   "version": "3.7.6"
  }
 },
 "nbformat": 4,
 "nbformat_minor": 4
}
